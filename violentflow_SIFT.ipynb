{
 "cells": [
  {
   "cell_type": "code",
   "execution_count": 8,
   "metadata": {},
   "outputs": [],
   "source": [
    "import pickle\n",
    "import numpy as np\n",
    "import cv2\n",
    "import sys\n",
    "import os\n",
    "import glob\n",
    "from sklearn import svm\n",
    "from scipy.stats import mode\n",
    "from sklearn.ensemble import RandomForestClassifier\n",
    "from tqdm import tqdm"
   ]
  },
  {
   "cell_type": "code",
   "execution_count": 9,
   "metadata": {},
   "outputs": [],
   "source": [
    "featuresLimit = 15000"
   ]
  },
  {
   "cell_type": "code",
   "execution_count": 10,
   "metadata": {},
   "outputs": [],
   "source": [
    "\n",
    "def featureExtraction( videoPath, actionName, type):\n",
    "\n",
    "\n",
    "\n",
    "    # Set frame path, if jpeg directory doesn't exist , take images from video dir\n",
    "    framePath = videoPath\n",
    "    if os.path.exists( framePath + \"/jpeg\") :\n",
    "        framePath += \"/jpeg/\"\n",
    "    # Extract feature\n",
    "    pickle_name='video_summary.pkl'\n",
    "    file_path=os.path.join(videoPath,pickle_name)\n",
    "    with open(file_path, 'rb') as f:\n",
    "        data = pickle.load(f)\n",
    "        imageFrames=data['images_files']\n",
    "    #print \"DEBUG: Image Frames - \", imageFrames\n",
    "    frameCount = 0\n",
    "    frameIndex = 0\n",
    "\n",
    "    # Feature List for a video\n",
    "    videoFeatures  = []\n",
    "    print(videoPath)\n",
    "    for iFrame in imageFrames:\n",
    "        \n",
    "        frameIndex += 1\n",
    "        # Only take alternate frames\n",
    "        if  (frameIndex % 2)  == 0 :\n",
    "            continue\n",
    "\n",
    "        # Read Frame\n",
    "        frame = cv2.imread(iFrame)\n",
    "        # Create SIFT object\n",
    "        sift = cv2.xfeatures2d.SIFT_create()\n",
    "        gray=cv2.cvtColor(frame,cv2.COLOR_BGR2GRAY)\n",
    "        kp, des = sift.detectAndCompute(gray, None)\n",
    "\n",
    "        fIndex = 0 # Feature Index\n",
    "        if(des is None):\n",
    "            continue\n",
    "        for d in des:\n",
    "            # Insert Label Only for Training\n",
    "            if type == \"Trng\":\n",
    "                d = np.insert(d, 0, sportsActionTag[actionName])\n",
    "\n",
    "            videoFeatures.append(d)\n",
    "            if fIndex >= featuresLimit:\n",
    "                break\n",
    "            fIndex += 1\n",
    "\n",
    "\n",
    "        if frameCount >= 23:\n",
    "            break\n",
    "        frameCount += 1\n",
    "\n",
    "\n",
    "\n",
    "    print(\" \\t\\tFrame Count:{0}\".format(frameCount))\n",
    "    #print \"Video Features: \", videoFeatures\n",
    "\n",
    "    return videoFeatures"
   ]
  },
  {
   "cell_type": "code",
   "execution_count": 11,
   "metadata": {},
   "outputs": [],
   "source": [
    "sportsActionTag = {\n",
    "    'no_fight': 0,\n",
    "    'fight':1\n",
    "}"
   ]
  },
  {
   "cell_type": "code",
   "execution_count": 12,
   "metadata": {},
   "outputs": [],
   "source": [
    "videoPath='./data/raw_frames/violentflow/audience_violence__Riot_police_attack_peaceful_protesters_at_G20_Climate_Camp__bristlekrs__t244-zEENSs'\n",
    "sportsActionName='fight'"
   ]
  },
  {
   "cell_type": "code",
   "execution_count": 13,
   "metadata": {},
   "outputs": [
    {
     "name": "stdout",
     "output_type": "stream",
     "text": [
      "./data/raw_frames/violentflow/audience_violence__Riot_police_attack_peaceful_protesters_at_G20_Climate_Camp__bristlekrs__t244-zEENSs\n",
      " \t\tFrame Count:11\n"
     ]
    }
   ],
   "source": [
    "videoFeatures = featureExtraction(videoPath , sportsActionName, 'Trng')"
   ]
  },
  {
   "cell_type": "code",
   "execution_count": 14,
   "metadata": {},
   "outputs": [],
   "source": [
    "def getListOfDir(path):\n",
    "    # Read each sport action directory\n",
    "    dirs  = os.listdir(path)\n",
    "\n",
    "    sportsActionsCount = 0\n",
    "    filtered_dir  = []\n",
    "    # Remove . .. and hidden directory\n",
    "    for dir in dirs:\n",
    "        if not dir.startswith(\".\"):\n",
    "            filtered_dir.append(dir)\n",
    "\n",
    "    return filtered_dir"
   ]
  },
  {
   "cell_type": "code",
   "execution_count": 15,
   "metadata": {},
   "outputs": [],
   "source": [
    "sportsActionPath='./data/raw_frames/violentflow'\n",
    "sportsActionList = getListOfDir( sportsActionPath )"
   ]
  },
  {
   "cell_type": "code",
   "execution_count": 16,
   "metadata": {},
   "outputs": [
    {
     "name": "stderr",
     "output_type": "stream",
     "text": [
      "\r",
      "  0%|          | 0/246 [00:00<?, ?it/s]"
     ]
    },
    {
     "name": "stdout",
     "output_type": "stream",
     "text": [
      "./data/raw_frames/violentflow/audience_violence__Riot_police_attack_peaceful_protesters_at_G20_Climate_Camp__bristlekrs__t244-zEENSs\n"
     ]
    },
    {
     "name": "stderr",
     "output_type": "stream",
     "text": [
      "\r",
      "  0%|          | 1/246 [00:00<01:57,  2.08it/s]"
     ]
    },
    {
     "name": "stdout",
     "output_type": "stream",
     "text": [
      " \t\tFrame Count:11\n",
      "./data/raw_frames/violentflow/balcony_football__birmingham_promoted_to_premier_from_balcony_town_hall__clippo67_\n"
     ]
    },
    {
     "name": "stderr",
     "output_type": "stream",
     "text": [
      "\r",
      "  1%|          | 2/246 [00:01<02:10,  1.87it/s]"
     ]
    },
    {
     "name": "stdout",
     "output_type": "stream",
     "text": [
      " \t\tFrame Count:10\n",
      "./data/raw_frames/violentflow/balcony_football__Seoul_vs_Dae_Gu_Futbol_Roman_Candles__JOECORE__bbpgvaM2sxs\n"
     ]
    },
    {
     "name": "stderr",
     "output_type": "stream",
     "text": [
      "\r",
      "  1%|          | 3/246 [00:01<02:03,  1.97it/s]"
     ]
    },
    {
     "name": "stdout",
     "output_type": "stream",
     "text": [
      " \t\tFrame Count:10\n",
      "./data/raw_frames/violentflow/balcony_football_violence__Brannik_Football_Violence__Nattevandring__ysW-tGv-YjI\n"
     ]
    },
    {
     "name": "stderr",
     "output_type": "stream",
     "text": [
      "\r",
      "  2%|▏         | 4/246 [00:01<01:53,  2.13it/s]"
     ]
    },
    {
     "name": "stdout",
     "output_type": "stream",
     "text": [
      " \t\tFrame Count:12\n",
      "./data/raw_frames/violentflow/balcony_football_violence__British_Football_Hooligans_Mix_1__MorningGlory1997__pn6CNLi3UhA\n"
     ]
    },
    {
     "name": "stderr",
     "output_type": "stream",
     "text": [
      "\r",
      "  2%|▏         | 5/246 [00:02<01:53,  2.11it/s]"
     ]
    },
    {
     "name": "stdout",
     "output_type": "stream",
     "text": [
      " \t\tFrame Count:13\n",
      "./data/raw_frames/violentflow/balcony_football_violence__British_Football_Hooligans_Mix_3__MorningGlory1997__kW23lUV6oFk\n"
     ]
    },
    {
     "name": "stderr",
     "output_type": "stream",
     "text": [
      "\r",
      "  2%|▏         | 6/246 [00:03<02:10,  1.84it/s]"
     ]
    },
    {
     "name": "stdout",
     "output_type": "stream",
     "text": [
      " \t\tFrame Count:12\n",
      "./data/raw_frames/violentflow/balcony_football_violence__Football_Hooligans_Bury_v_Stockport_1998__MorningGlory1997__g6p_k37oWws\n"
     ]
    },
    {
     "name": "stderr",
     "output_type": "stream",
     "text": [
      "\r",
      "  3%|▎         | 7/246 [00:03<01:57,  2.03it/s]"
     ]
    },
    {
     "name": "stdout",
     "output_type": "stream",
     "text": [
      " \t\tFrame Count:12\n",
      "./data/raw_frames/violentflow/balcony_football_violence__Football_Hooligans_Leeds_v_Wolves_2005__MorningGlory1997__f66MTrNLPL0\n"
     ]
    },
    {
     "name": "stderr",
     "output_type": "stream",
     "text": [
      "\r",
      "  3%|▎         | 8/246 [00:03<01:46,  2.24it/s]"
     ]
    },
    {
     "name": "stdout",
     "output_type": "stream",
     "text": [
      " \t\tFrame Count:11\n",
      "./data/raw_frames/violentflow/balcony_football_violence__Football_Hooligans_Oxford_Utd_v_Aston_Villa_2002__MorningGlory1997__bWY8AQIFYXM\n"
     ]
    },
    {
     "name": "stderr",
     "output_type": "stream",
     "text": [
      "\r",
      "  4%|▎         | 9/246 [00:04<01:39,  2.38it/s]"
     ]
    },
    {
     "name": "stdout",
     "output_type": "stream",
     "text": [
      " \t\tFrame Count:12\n",
      "./data/raw_frames/violentflow/balcony_football_violence__Football_Hooligans_Watford_v_Luton_2002_Version_1__MorningGlory1997__vLOTaR9eMlg\n"
     ]
    },
    {
     "name": "stderr",
     "output_type": "stream",
     "text": [
      "\r",
      "  4%|▍         | 10/246 [00:04<01:33,  2.51it/s]"
     ]
    },
    {
     "name": "stdout",
     "output_type": "stream",
     "text": [
      " \t\tFrame Count:11\n",
      "./data/raw_frames/violentflow/balcony_football_violence__Football_Hooligans_Watford_v_Luton_2002_Version_2__MorningGlory1997__1XbY1Sr2Obw\n"
     ]
    },
    {
     "name": "stderr",
     "output_type": "stream",
     "text": [
      "\r",
      "  4%|▍         | 11/246 [00:04<01:31,  2.56it/s]"
     ]
    },
    {
     "name": "stdout",
     "output_type": "stream",
     "text": [
      " \t\tFrame Count:12\n",
      "./data/raw_frames/violentflow/balcony_football_violence__Football_Violence_Gais_AIK_2005__spliffpolitics__e4xiTNkfN0U\n"
     ]
    },
    {
     "name": "stderr",
     "output_type": "stream",
     "text": [
      "\r",
      "  5%|▍         | 12/246 [00:05<01:29,  2.61it/s]"
     ]
    },
    {
     "name": "stdout",
     "output_type": "stream",
     "text": [
      " \t\tFrame Count:10\n",
      "./data/raw_frames/violentflow/crowd_violence__Crowd_Violence_Control_techniques__mackevster__wkva5YERsRg\n"
     ]
    },
    {
     "name": "stderr",
     "output_type": "stream",
     "text": [
      "\r",
      "  5%|▌         | 13/246 [00:05<01:27,  2.65it/s]"
     ]
    },
    {
     "name": "stdout",
     "output_type": "stream",
     "text": [
      " \t\tFrame Count:12\n",
      "./data/raw_frames/violentflow/crowd_violence__FooTBaLL_Violence__dyster8__iN4kiCHg2S4\n"
     ]
    },
    {
     "name": "stderr",
     "output_type": "stream",
     "text": [
      "\r",
      "  6%|▌         | 14/246 [00:06<01:29,  2.59it/s]"
     ]
    },
    {
     "name": "stdout",
     "output_type": "stream",
     "text": [
      " \t\tFrame Count:12\n",
      "./data/raw_frames/violentflow/crowd_violence__Man_Utd_vs_Roma_Crowd_Trouble__uncychris__ZGI5vlDMpJA\n"
     ]
    },
    {
     "name": "stderr",
     "output_type": "stream",
     "text": [
      "\r",
      "  6%|▌         | 15/246 [00:06<01:21,  2.84it/s]"
     ]
    },
    {
     "name": "stdout",
     "output_type": "stream",
     "text": [
      " \t\tFrame Count:11\n",
      "./data/raw_frames/violentflow/crowd_violence__Roma_V_Man_Utd_Police_beating_crowd__Beck84Utd__jwtg8AkcAfc\n"
     ]
    },
    {
     "name": "stderr",
     "output_type": "stream",
     "text": [
      "\r",
      "  7%|▋         | 16/246 [00:06<01:24,  2.72it/s]"
     ]
    },
    {
     "name": "stdout",
     "output_type": "stream",
     "text": [
      " \t\tFrame Count:11\n",
      "./data/raw_frames/violentflow/crowd_violence__Rostock_Anti_G8_Demo_Police_Violence__erikaransom__f185olt6W4I\n"
     ]
    },
    {
     "name": "stderr",
     "output_type": "stream",
     "text": [
      "\r",
      "  7%|▋         | 17/246 [00:06<01:13,  3.10it/s]"
     ]
    },
    {
     "name": "stdout",
     "output_type": "stream",
     "text": [
      " \t\tFrame Count:10\n",
      "./data/raw_frames/violentflow/crowd_violence__Violence_At_Upton_Park_25_08_09__JunaidNixamani__MgXe0isUnSg\n"
     ]
    },
    {
     "name": "stderr",
     "output_type": "stream",
     "text": [
      "\r",
      "  7%|▋         | 18/246 [00:07<01:24,  2.70it/s]"
     ]
    },
    {
     "name": "stdout",
     "output_type": "stream",
     "text": [
      " \t\tFrame Count:11\n",
      "./data/raw_frames/violentflow/fans_violence__Accidents_Fights_Violence_Tragedies_Hooligans_Football_Fights_HORRIBLE_THINGS__darkhero00__PgujG07PUq0\n"
     ]
    },
    {
     "name": "stderr",
     "output_type": "stream",
     "text": [
      "\r",
      "  8%|▊         | 19/246 [00:07<01:17,  2.92it/s]"
     ]
    },
    {
     "name": "stdout",
     "output_type": "stream",
     "text": [
      " \t\tFrame Count:11\n",
      "./data/raw_frames/violentflow/fans_violence__BRANNIK_Football_Violence_CSKA__Arpecua__gew9Ks_9VRU\n"
     ]
    },
    {
     "name": "stderr",
     "output_type": "stream",
     "text": [
      "\r",
      "  8%|▊         | 20/246 [00:08<01:24,  2.67it/s]"
     ]
    },
    {
     "name": "stdout",
     "output_type": "stream",
     "text": [
      " \t\tFrame Count:10\n",
      "./data/raw_frames/violentflow/fans_violence__English_Hooligans_vs_Turkey_Ultras__Vandal83__J8S2-pGz8ao\n"
     ]
    },
    {
     "name": "stderr",
     "output_type": "stream",
     "text": [
      "\r",
      "  9%|▊         | 21/246 [00:08<01:35,  2.37it/s]"
     ]
    },
    {
     "name": "stdout",
     "output_type": "stream",
     "text": [
      " \t\tFrame Count:11\n",
      "./data/raw_frames/violentflow/fans_violence__F_GHT_S_MORE_MPORTANT_THAN_FOOTBALL_sometimes__shevchenko776__9a616Ppoeak\n"
     ]
    },
    {
     "name": "stderr",
     "output_type": "stream",
     "text": [
      "\r",
      "  9%|▉         | 22/246 [00:08<01:25,  2.63it/s]"
     ]
    },
    {
     "name": "stdout",
     "output_type": "stream",
     "text": [
      " \t\tFrame Count:11\n",
      "./data/raw_frames/violentflow/fans_violence__Fans_Fighting_Roma_vs_Man_Utd__teafor22__oYikreK6ng4\n"
     ]
    },
    {
     "name": "stderr",
     "output_type": "stream",
     "text": [
      "\r",
      "  9%|▉         | 23/246 [00:09<01:26,  2.57it/s]"
     ]
    },
    {
     "name": "stdout",
     "output_type": "stream",
     "text": [
      " \t\tFrame Count:12\n",
      "./data/raw_frames/violentflow/fans_violence__FootBall_Fans_Violence__xxxXLsDXxxx__EaCpQJLdxJ8\n"
     ]
    },
    {
     "name": "stderr",
     "output_type": "stream",
     "text": [
      "\r",
      " 10%|▉         | 24/246 [00:09<01:27,  2.55it/s]"
     ]
    },
    {
     "name": "stdout",
     "output_type": "stream",
     "text": [
      " \t\tFrame Count:11\n",
      "./data/raw_frames/violentflow/fans_violence__Football_Hooligans_Preston_North_End_Mix__prestonparasoccer__qwrOc8xmlpY\n"
     ]
    },
    {
     "name": "stderr",
     "output_type": "stream",
     "text": [
      "\r",
      " 10%|█         | 25/246 [00:10<01:25,  2.58it/s]"
     ]
    },
    {
     "name": "stdout",
     "output_type": "stream",
     "text": [
      " \t\tFrame Count:10\n",
      "./data/raw_frames/violentflow/fans_violence__Football_Hooligans_Watford_v_Luton_2002_Version_1__MorningGlory1997__vLOTaR9eMlg\n"
     ]
    },
    {
     "name": "stderr",
     "output_type": "stream",
     "text": [
      "\r",
      " 11%|█         | 26/246 [00:10<01:32,  2.37it/s]"
     ]
    },
    {
     "name": "stdout",
     "output_type": "stream",
     "text": [
      " \t\tFrame Count:12\n",
      "./data/raw_frames/violentflow/fans_violence__Football_Violence_From_England_And_Netherlands__spliffpolitics__anRuF6MBO-s\n"
     ]
    },
    {
     "name": "stderr",
     "output_type": "stream",
     "text": [
      "\r",
      " 11%|█         | 27/246 [00:11<01:30,  2.42it/s]"
     ]
    },
    {
     "name": "stdout",
     "output_type": "stream",
     "text": [
      " \t\tFrame Count:11\n",
      "./data/raw_frames/violentflow/fans_violence__Hardcore_Supporter_Fight_Extreme_Violence_Final_Four_Volley_Praha__javierulf__jzmiAbjN6Mw\n"
     ]
    },
    {
     "name": "stderr",
     "output_type": "stream",
     "text": [
      "\r",
      " 11%|█▏        | 28/246 [00:11<01:46,  2.05it/s]"
     ]
    },
    {
     "name": "stdout",
     "output_type": "stream",
     "text": [
      " \t\tFrame Count:12\n",
      "./data/raw_frames/violentflow/fans_violence__Hockey_Fights_and_Fan_Brawls__dsnitris2007__XinJCGR7u6w\n"
     ]
    },
    {
     "name": "stderr",
     "output_type": "stream",
     "text": [
      "\r",
      " 12%|█▏        | 29/246 [00:12<01:54,  1.90it/s]"
     ]
    },
    {
     "name": "stdout",
     "output_type": "stream",
     "text": [
      " \t\tFrame Count:18\n",
      "./data/raw_frames/violentflow/fans_violence__Hooligans_violence_in_stadiums_PART_1__yuossef5959__PPIP1AYJyXE\n"
     ]
    },
    {
     "name": "stderr",
     "output_type": "stream",
     "text": [
      "\r",
      " 12%|█▏        | 30/246 [00:12<01:40,  2.14it/s]"
     ]
    },
    {
     "name": "stdout",
     "output_type": "stream",
     "text": [
      " \t\tFrame Count:12\n",
      "./data/raw_frames/violentflow/fans_violence__IRAKLIS_FANS_OUTLAW__RESISTANCE1908__15XLSFN7mFs\n"
     ]
    },
    {
     "name": "stderr",
     "output_type": "stream",
     "text": [
      "\r",
      " 13%|█▎        | 31/246 [00:13<01:33,  2.29it/s]"
     ]
    },
    {
     "name": "stdout",
     "output_type": "stream",
     "text": [
      " \t\tFrame Count:11\n",
      "./data/raw_frames/violentflow/fans_violence__Marseille_World_Cup_fans_riot__tizwaz35__I9sUIDRjpoo\n"
     ]
    },
    {
     "name": "stderr",
     "output_type": "stream",
     "text": [
      "\r",
      " 13%|█▎        | 32/246 [00:13<01:21,  2.63it/s]"
     ]
    },
    {
     "name": "stdout",
     "output_type": "stream",
     "text": [
      " \t\tFrame Count:11\n",
      "./data/raw_frames/violentflow/fans_violence__Roma_vs_Man_United_Police_violence_DANISH_TV__7Anotnac7__gIfgEwL\n"
     ]
    },
    {
     "name": "stderr",
     "output_type": "stream",
     "text": [
      "\r",
      " 13%|█▎        | 33/246 [00:13<01:24,  2.52it/s]"
     ]
    },
    {
     "name": "stdout",
     "output_type": "stream",
     "text": [
      " \t\tFrame Count:12\n",
      "./data/raw_frames/violentflow/fans_violence__Slovak_chauvinism_nationalism_extremism_intolerance_and_all_form\n"
     ]
    },
    {
     "name": "stderr",
     "output_type": "stream",
     "text": [
      "\r",
      " 14%|█▍        | 34/246 [00:14<01:27,  2.43it/s]"
     ]
    },
    {
     "name": "stdout",
     "output_type": "stream",
     "text": [
      " \t\tFrame Count:11\n",
      "./data/raw_frames/violentflow/fans_violence__THE_BEST_HOOLIGANS_Los_hinchas_ultras_barra_torcida_fans_fanatic\n"
     ]
    },
    {
     "name": "stderr",
     "output_type": "stream",
     "text": [
      "\r",
      " 14%|█▍        | 35/246 [00:14<01:22,  2.56it/s]"
     ]
    },
    {
     "name": "stdout",
     "output_type": "stream",
     "text": [
      " \t\tFrame Count:11\n",
      "./data/raw_frames/violentflow/fans_violence__Tigers_Yob_Violence_Hull_Daily_Mail__AllMail__J_znZ1TJugw\n"
     ]
    },
    {
     "name": "stderr",
     "output_type": "stream",
     "text": [
      "\r",
      " 15%|█▍        | 36/246 [00:15<01:41,  2.07it/s]"
     ]
    },
    {
     "name": "stdout",
     "output_type": "stream",
     "text": [
      " \t\tFrame Count:16\n",
      "./data/raw_frames/violentflow/fans_violence__Vanilla_Muffins_Chelsea_West_Ham_A_Look_At_Football_Violence__TheSicSociety__Qx0W0-0dDFQ\n"
     ]
    },
    {
     "name": "stderr",
     "output_type": "stream",
     "text": [
      "\r",
      " 15%|█▌        | 37/246 [00:15<01:38,  2.12it/s]"
     ]
    },
    {
     "name": "stdout",
     "output_type": "stream",
     "text": [
      " \t\tFrame Count:10\n",
      "./data/raw_frames/violentflow/fans_violence__Violence_after_bball_game__shlomipr__WSFdO3em2I8\n"
     ]
    },
    {
     "name": "stderr",
     "output_type": "stream",
     "text": [
      "\r",
      " 15%|█▌        | 38/246 [00:16<01:38,  2.12it/s]"
     ]
    },
    {
     "name": "stdout",
     "output_type": "stream",
     "text": [
      " \t\tFrame Count:11\n",
      "./data/raw_frames/violentflow/fans_violence__Violence_in_Soccer_Stadiums_The_Hooligan_Syndrome__evanese1__-x2\n"
     ]
    },
    {
     "name": "stderr",
     "output_type": "stream",
     "text": [
      "\r",
      " 16%|█▌        | 39/246 [00:16<01:28,  2.33it/s]"
     ]
    },
    {
     "name": "stdout",
     "output_type": "stream",
     "text": [
      " \t\tFrame Count:11\n",
      "./data/raw_frames/violentflow/football_crowds__2008_Penn_State_Football_Crowd_Pump_Up_Video__rmcmillen50__rQB1R\n"
     ]
    },
    {
     "name": "stderr",
     "output_type": "stream",
     "text": [
      "\r",
      " 16%|█▋        | 40/246 [00:16<01:27,  2.37it/s]"
     ]
    },
    {
     "name": "stdout",
     "output_type": "stream",
     "text": [
      " \t\tFrame Count:10\n",
      "./data/raw_frames/violentflow/football_crowds__Anglia_News_Sport_Soccer_Football_FIFA_South_Africa_World_Cup_2010_The_Vuvuzela__anglianewseast__3JrtWmyk-Do\n"
     ]
    },
    {
     "name": "stderr",
     "output_type": "stream",
     "text": [
      "\r",
      " 17%|█▋        | 41/246 [00:17<01:41,  2.02it/s]"
     ]
    },
    {
     "name": "stdout",
     "output_type": "stream",
     "text": [
      " \t\tFrame Count:13\n",
      "./data/raw_frames/violentflow/football_crowds__ASB_SHOW_HOMECOMING_VIDEO_2010__deweesbrofilms__RUAVfS2OyX0\n"
     ]
    },
    {
     "name": "stderr",
     "output_type": "stream",
     "text": [
      "\r",
      " 17%|█▋        | 42/246 [00:17<01:33,  2.17it/s]"
     ]
    },
    {
     "name": "stdout",
     "output_type": "stream",
     "text": [
      " \t\tFrame Count:7\n",
      "./data/raw_frames/violentflow/football_crowds__Both_crowds_Boca_vs_Internacionale__HansieC__ramrVUP0W0k\n"
     ]
    },
    {
     "name": "stderr",
     "output_type": "stream",
     "text": [
      "\r",
      " 17%|█▋        | 43/246 [00:18<02:08,  1.58it/s]"
     ]
    },
    {
     "name": "stdout",
     "output_type": "stream",
     "text": [
      " \t\tFrame Count:13\n",
      "./data/raw_frames/violentflow/football_crowds__Brazilian_Football__WELLBRAN__kKRw-i7pukY\n"
     ]
    },
    {
     "name": "stderr",
     "output_type": "stream",
     "text": [
      "\r",
      " 18%|█▊        | 44/246 [00:20<03:05,  1.09it/s]"
     ]
    },
    {
     "name": "stdout",
     "output_type": "stream",
     "text": [
      " \t\tFrame Count:14\n",
      "./data/raw_frames/violentflow/football_crowds__Brisbane_Lions_vs_Melbourne_Demons_The_Gabba__StudyinBrisbane__Y\n"
     ]
    },
    {
     "name": "stderr",
     "output_type": "stream",
     "text": [
      "\r",
      " 18%|█▊        | 45/246 [00:21<02:46,  1.20it/s]"
     ]
    },
    {
     "name": "stdout",
     "output_type": "stream",
     "text": [
      " \t\tFrame Count:12\n",
      "./data/raw_frames/violentflow/football_crowds__Egypt_2_0_Algeria_World_Cup_2010__Azariful__joItnDgUGUc\n"
     ]
    },
    {
     "name": "stderr",
     "output_type": "stream",
     "text": [
      "\r",
      " 19%|█▊        | 46/246 [00:21<02:19,  1.44it/s]"
     ]
    },
    {
     "name": "stdout",
     "output_type": "stream",
     "text": [
      " \t\tFrame Count:12\n",
      "./data/raw_frames/violentflow/football_crowds__F_A_Cup_Final_2010_Clips_Lifestyle_Video__JPettsProductions__Kvt\n"
     ]
    },
    {
     "name": "stderr",
     "output_type": "stream",
     "text": [
      "\r",
      " 19%|█▉        | 47/246 [00:22<02:25,  1.37it/s]"
     ]
    },
    {
     "name": "stdout",
     "output_type": "stream",
     "text": [
      " \t\tFrame Count:12\n",
      "./data/raw_frames/violentflow/football_crowds__FIFA_World_Cup_The_Warriors_and_Magicians__SuperUdink__I2kOH7p48\n"
     ]
    },
    {
     "name": "stderr",
     "output_type": "stream",
     "text": [
      "\r",
      " 20%|█▉        | 48/246 [00:23<02:36,  1.27it/s]"
     ]
    },
    {
     "name": "stdout",
     "output_type": "stream",
     "text": [
      " \t\tFrame Count:17\n",
      "./data/raw_frames/violentflow/football_crowds__football_crowds__Anglia_News_Sport_Soccer_Football_FIFA_South_Africa_World_Cup_20\n"
     ]
    },
    {
     "name": "stderr",
     "output_type": "stream",
     "text": [
      "\r",
      " 20%|█▉        | 49/246 [00:24<02:33,  1.28it/s]"
     ]
    },
    {
     "name": "stdout",
     "output_type": "stream",
     "text": [
      " \t\tFrame Count:11\n",
      "./data/raw_frames/violentflow/football_crowds__Giants_of_Brazil_5_of_6__anandaliyanage__5tw2pojykz8\n"
     ]
    },
    {
     "name": "stderr",
     "output_type": "stream",
     "text": [
      "\r",
      " 20%|██        | 50/246 [00:24<02:10,  1.50it/s]"
     ]
    },
    {
     "name": "stdout",
     "output_type": "stream",
     "text": [
      " \t\tFrame Count:11\n",
      "./data/raw_frames/violentflow/football_crowds__Giants_of_Brazil_6_of_6__anandaliyanage__lq-GBA34iEI\n"
     ]
    },
    {
     "name": "stderr",
     "output_type": "stream",
     "text": [
      "\r",
      " 21%|██        | 51/246 [00:25<02:13,  1.46it/s]"
     ]
    },
    {
     "name": "stdout",
     "output_type": "stream",
     "text": [
      " \t\tFrame Count:12\n",
      "./data/raw_frames/violentflow/football_crowds__HARRY_KEWELL_SCORES_CROWD_GO_NUTS__phillipstama__K7qlpU7tMhQ\n"
     ]
    },
    {
     "name": "stderr",
     "output_type": "stream",
     "text": [
      "\r",
      " 21%|██        | 52/246 [00:25<02:15,  1.43it/s]"
     ]
    },
    {
     "name": "stdout",
     "output_type": "stream",
     "text": [
      " \t\tFrame Count:13\n",
      "./data/raw_frames/violentflow/football_crowds__Inside_the_Iowa_Spirit_Squads__uimediaproduction__V365Mro2t88\n"
     ]
    },
    {
     "name": "stderr",
     "output_type": "stream",
     "text": [
      "\r",
      " 22%|██▏       | 53/246 [00:26<02:13,  1.45it/s]"
     ]
    },
    {
     "name": "stdout",
     "output_type": "stream",
     "text": [
      " \t\tFrame Count:13\n",
      "./data/raw_frames/violentflow/football_crowds__Love_for_the_local_game__NTVKenya__52tfgLRJ2TA\n"
     ]
    },
    {
     "name": "stderr",
     "output_type": "stream",
     "text": [
      "\r",
      " 22%|██▏       | 54/246 [00:27<02:30,  1.28it/s]"
     ]
    },
    {
     "name": "stdout",
     "output_type": "stream",
     "text": [
      " \t\tFrame Count:12\n",
      "./data/raw_frames/violentflow/football_crowds__Love_is_in_the_air_DUFC_cup_final_Hampden_2010__tattoosyke__Afp7\n"
     ]
    },
    {
     "name": "stderr",
     "output_type": "stream",
     "text": [
      "\r",
      " 22%|██▏       | 55/246 [00:28<02:14,  1.42it/s]"
     ]
    },
    {
     "name": "stdout",
     "output_type": "stream",
     "text": [
      " \t\tFrame Count:13\n",
      "./data/raw_frames/violentflow/football_crowds__Maracana_Football_Crowd_Atmosphere__thetravelmap__xfi3rvFKIPU\n"
     ]
    },
    {
     "name": "stderr",
     "output_type": "stream",
     "text": [
      "\r",
      " 23%|██▎       | 56/246 [00:28<02:01,  1.56it/s]"
     ]
    },
    {
     "name": "stdout",
     "output_type": "stream",
     "text": [
      " \t\tFrame Count:13\n",
      "./data/raw_frames/violentflow/football_crowds__Massena_Central_High_School_Hall_Of_Fame_Football_Game_2009__joh\n"
     ]
    },
    {
     "name": "stderr",
     "output_type": "stream",
     "text": [
      "\r",
      " 23%|██▎       | 57/246 [00:29<02:05,  1.50it/s]"
     ]
    },
    {
     "name": "stdout",
     "output_type": "stream",
     "text": [
      " \t\tFrame Count:13\n",
      "./data/raw_frames/violentflow/football_crowds__MaximsNewsNetwork_SUDAN_ELECTIONS_YASIR_ARMAN_OMAR_AL_BASHIR_UNM\n"
     ]
    },
    {
     "name": "stderr",
     "output_type": "stream",
     "text": [
      "\r",
      " 24%|██▎       | 58/246 [00:30<02:13,  1.41it/s]"
     ]
    },
    {
     "name": "stdout",
     "output_type": "stream",
     "text": [
      " \t\tFrame Count:13\n",
      "./data/raw_frames/violentflow/football_crowds__Nepal_U16_versus_Tajikistan_U16__ampr1150gs__xcn-9PxjnIE\n"
     ]
    },
    {
     "name": "stderr",
     "output_type": "stream",
     "text": [
      "\r",
      " 24%|██▍       | 59/246 [00:30<02:04,  1.50it/s]"
     ]
    },
    {
     "name": "stdout",
     "output_type": "stream",
     "text": [
      " \t\tFrame Count:11\n",
      "./data/raw_frames/violentflow/football_crowds__New_Mexico_Men_s_Soccer_Crowd_Atmosphere__menslobosoccer__us9aHz\n"
     ]
    },
    {
     "name": "stderr",
     "output_type": "stream",
     "text": [
      "\r",
      " 24%|██▍       | 60/246 [00:31<01:55,  1.61it/s]"
     ]
    },
    {
     "name": "stdout",
     "output_type": "stream",
     "text": [
      " \t\tFrame Count:12\n",
      "./data/raw_frames/violentflow/football_crowds__Poldi_Odonkor_und_Asamoah_singen_in_Berlin__indra1974__4TkcO2r0q\n"
     ]
    },
    {
     "name": "stderr",
     "output_type": "stream",
     "text": [
      "\r",
      " 25%|██▍       | 61/246 [00:31<01:56,  1.59it/s]"
     ]
    },
    {
     "name": "stdout",
     "output_type": "stream",
     "text": [
      " \t\tFrame Count:13\n",
      "./data/raw_frames/violentflow/football_crowds__rangers_v_celtic__Milneadona__OOWpL4wKIAA\n"
     ]
    },
    {
     "name": "stderr",
     "output_type": "stream",
     "text": [
      "\r",
      " 25%|██▌       | 62/246 [00:32<01:50,  1.67it/s]"
     ]
    },
    {
     "name": "stdout",
     "output_type": "stream",
     "text": [
      " \t\tFrame Count:13\n",
      "./data/raw_frames/violentflow/football_crowds__Spain_World_Cup_team_receives_hero_s_welcome__timesofearth__Pz3z\n"
     ]
    },
    {
     "name": "stderr",
     "output_type": "stream",
     "text": [
      "\r",
      " 26%|██▌       | 63/246 [00:32<01:48,  1.68it/s]"
     ]
    },
    {
     "name": "stdout",
     "output_type": "stream",
     "text": [
      " \t\tFrame Count:15\n",
      "./data/raw_frames/violentflow/football_crowds__USC_Football_Team_arriving_at_Lincoln_stadium_2007__jmsotojr__um\n"
     ]
    },
    {
     "name": "stderr",
     "output_type": "stream",
     "text": [
      "\r",
      " 26%|██▌       | 64/246 [00:33<01:58,  1.53it/s]"
     ]
    },
    {
     "name": "stdout",
     "output_type": "stream",
     "text": [
      " \t\tFrame Count:13\n",
      "./data/raw_frames/violentflow/football_crowds__Wrest_Point_Tassie_Devils_coming_off_the_field_in_their_final_ma\n"
     ]
    },
    {
     "name": "stderr",
     "output_type": "stream",
     "text": [
      "\r",
      " 26%|██▋       | 65/246 [00:34<01:59,  1.51it/s]"
     ]
    },
    {
     "name": "stdout",
     "output_type": "stream",
     "text": [
      " \t\tFrame Count:13\n",
      "./data/raw_frames/violentflow/football_crowds_cheering__9697_stadium_crowds__oddballfilmvideo__4onlltf20tE\n"
     ]
    },
    {
     "name": "stderr",
     "output_type": "stream",
     "text": [
      "\r",
      " 27%|██▋       | 66/246 [00:35<02:13,  1.35it/s]"
     ]
    },
    {
     "name": "stdout",
     "output_type": "stream",
     "text": [
      " \t\tFrame Count:12\n",
      "./data/raw_frames/violentflow/football_crowds_cheering__Alabama_Ole_Miss_08_Rammer_Jammer__jaydubya10__mviEzH28NiE\n"
     ]
    },
    {
     "name": "stderr",
     "output_type": "stream",
     "text": [
      "\r",
      " 27%|██▋       | 67/246 [00:36<02:17,  1.30it/s]"
     ]
    },
    {
     "name": "stdout",
     "output_type": "stream",
     "text": [
      " \t\tFrame Count:11\n",
      "./data/raw_frames/violentflow/football_crowds_cheering__Alabama_vs_San_Jose_State__marlincaddell__RqdBKczKyA4\n"
     ]
    },
    {
     "name": "stderr",
     "output_type": "stream",
     "text": [
      "\r",
      " 28%|██▊       | 68/246 [00:37<02:20,  1.26it/s]"
     ]
    },
    {
     "name": "stdout",
     "output_type": "stream",
     "text": [
      " \t\tFrame Count:11\n",
      "./data/raw_frames/violentflow/football_crowds_cheering__Andres_Iniesta_Standing_Ovations__allas11__WKv7pmjgDeg\n"
     ]
    },
    {
     "name": "stderr",
     "output_type": "stream",
     "text": [
      "\r",
      " 28%|██▊       | 69/246 [00:37<02:10,  1.36it/s]"
     ]
    },
    {
     "name": "stdout",
     "output_type": "stream",
     "text": [
      " \t\tFrame Count:12\n",
      "./data/raw_frames/violentflow/football_crowds_cheering__Arkansas_vs_ULM_September_11_2010_Woo_Pig_Sooie__jayd243__RfMRWT\n"
     ]
    },
    {
     "name": "stderr",
     "output_type": "stream",
     "text": [
      "\r",
      " 28%|██▊       | 70/246 [00:38<01:58,  1.48it/s]"
     ]
    },
    {
     "name": "stdout",
     "output_type": "stream",
     "text": [
      " \t\tFrame Count:11\n",
      "./data/raw_frames/violentflow/football_crowds_cheering__Australia_vs_Ghana__cubicspacedivision__hy9sgs_Rzbg\n"
     ]
    },
    {
     "name": "stderr",
     "output_type": "stream",
     "text": [
      "\r",
      " 29%|██▉       | 71/246 [00:38<01:45,  1.66it/s]"
     ]
    },
    {
     "name": "stdout",
     "output_type": "stream",
     "text": [
      " \t\tFrame Count:12\n",
      "./data/raw_frames/violentflow/football_crowds_cheering__Brisbane_Lions_v_Carlton_Blues_The_Gabba_5_Sept_2009__jacktion19\n"
     ]
    },
    {
     "name": "stderr",
     "output_type": "stream",
     "text": [
      "\r",
      " 29%|██▉       | 72/246 [00:39<01:39,  1.75it/s]"
     ]
    },
    {
     "name": "stdout",
     "output_type": "stream",
     "text": [
      " \t\tFrame Count:12\n",
      "./data/raw_frames/violentflow/football_crowds_cheering__Buddy_kicks_100_goals_Hawthorn_vs_Carlton__Greaperman__BlUgh2qDj\n"
     ]
    },
    {
     "name": "stderr",
     "output_type": "stream",
     "text": [
      "\r",
      " 30%|██▉       | 73/246 [00:39<01:35,  1.80it/s]"
     ]
    },
    {
     "name": "stdout",
     "output_type": "stream",
     "text": [
      " \t\tFrame Count:12\n",
      "./data/raw_frames/violentflow/football_crowds_cheering__Cal_Beats_Stanford_Big_Game_2002_short_low_res_version__belmonto\n"
     ]
    },
    {
     "name": "stderr",
     "output_type": "stream",
     "text": [
      "\r",
      " 30%|███       | 74/246 [00:40<01:48,  1.58it/s]"
     ]
    },
    {
     "name": "stdout",
     "output_type": "stream",
     "text": [
      " \t\tFrame Count:11\n",
      "./data/raw_frames/violentflow/football_crowds_cheering__Chang_Rai_United_Football_Match__goldfly___aTVnHfqClA\n"
     ]
    },
    {
     "name": "stderr",
     "output_type": "stream",
     "text": [
      "\r",
      " 30%|███       | 75/246 [00:40<01:40,  1.71it/s]"
     ]
    },
    {
     "name": "stdout",
     "output_type": "stream",
     "text": [
      " \t\tFrame Count:12\n",
      "./data/raw_frames/violentflow/football_crowds_cheering__Cheering_EAHS_JV_Win__GoAlvarezEagles__Ya-N2JawEyc\n"
     ]
    },
    {
     "name": "stderr",
     "output_type": "stream",
     "text": [
      "\r",
      " 31%|███       | 76/246 [00:41<01:42,  1.65it/s]"
     ]
    },
    {
     "name": "stdout",
     "output_type": "stream",
     "text": [
      " \t\tFrame Count:11\n",
      "./data/raw_frames/violentflow/football_crowds_cheering__Cheering_in_the_dawg_pack_as_game_gets_under_way__hometownkid__p\n"
     ]
    },
    {
     "name": "stderr",
     "output_type": "stream",
     "text": [
      "\r",
      " 31%|███▏      | 77/246 [00:42<01:38,  1.71it/s]"
     ]
    },
    {
     "name": "stdout",
     "output_type": "stream",
     "text": [
      " \t\tFrame Count:10\n",
      "./data/raw_frames/violentflow/football_crowds_cheering__Cheering_the_Nod__DjOky__iwrZ7iOfXAA\n"
     ]
    },
    {
     "name": "stderr",
     "output_type": "stream",
     "text": [
      "\r",
      " 32%|███▏      | 78/246 [00:42<01:34,  1.78it/s]"
     ]
    },
    {
     "name": "stdout",
     "output_type": "stream",
     "text": [
      " \t\tFrame Count:13\n",
      "./data/raw_frames/violentflow/football_crowds_cheering__Cougar_Football__montanhaf100__tZMx6fr49H0\n"
     ]
    },
    {
     "name": "stderr",
     "output_type": "stream",
     "text": [
      "\r",
      " 32%|███▏      | 79/246 [00:43<01:49,  1.52it/s]"
     ]
    },
    {
     "name": "stdout",
     "output_type": "stream",
     "text": [
      " \t\tFrame Count:12\n",
      "./data/raw_frames/violentflow/football_crowds_cheering__Crystal_cheering_on_the_Angels__jayskilove__NpCBQfC7TSc\n"
     ]
    },
    {
     "name": "stderr",
     "output_type": "stream",
     "text": [
      "\r",
      " 33%|███▎      | 80/246 [00:44<01:42,  1.62it/s]"
     ]
    },
    {
     "name": "stdout",
     "output_type": "stream",
     "text": [
      " \t\tFrame Count:13\n",
      "./data/raw_frames/violentflow/football_crowds_cheering__Day_254_of_2010_Washington_Huskies_First_Half__shinystuffff__H3x\n"
     ]
    },
    {
     "name": "stderr",
     "output_type": "stream",
     "text": [
      "\r",
      " 33%|███▎      | 81/246 [00:44<01:35,  1.73it/s]"
     ]
    },
    {
     "name": "stdout",
     "output_type": "stream",
     "text": [
      " \t\tFrame Count:13\n",
      "./data/raw_frames/violentflow/football_crowds_cheering__Drill_Team_cheering_2_9_24_09__GHSClassOf09__qX4tQ1OHw3c\n"
     ]
    },
    {
     "name": "stderr",
     "output_type": "stream",
     "text": [
      "\r",
      " 33%|███▎      | 82/246 [00:45<01:33,  1.75it/s]"
     ]
    },
    {
     "name": "stdout",
     "output_type": "stream",
     "text": [
      " \t\tFrame Count:12\n",
      "./data/raw_frames/violentflow/football_crowds_cheering__FIFA_2010_USA_v_ENG_Dupont_Cirlce_Washington_DC__icallmyselfbria\n"
     ]
    },
    {
     "name": "stderr",
     "output_type": "stream",
     "text": [
      "\r",
      " 34%|███▎      | 83/246 [00:45<01:46,  1.53it/s]"
     ]
    },
    {
     "name": "stdout",
     "output_type": "stream",
     "text": [
      " \t\tFrame Count:13\n",
      "./data/raw_frames/violentflow/football_crowds_cheering__football_game__banonit123__m5pMOoPH21w\n"
     ]
    },
    {
     "name": "stderr",
     "output_type": "stream",
     "text": [
      "\r",
      " 34%|███▍      | 84/246 [00:46<01:35,  1.70it/s]"
     ]
    },
    {
     "name": "stdout",
     "output_type": "stream",
     "text": [
      " \t\tFrame Count:12\n",
      "./data/raw_frames/violentflow/football_crowds_cheering__Ghana_stars_in_heroes_reception__NTVKenya__RXQA-gagvKI\n"
     ]
    },
    {
     "name": "stderr",
     "output_type": "stream",
     "text": [
      "\r",
      " 35%|███▍      | 85/246 [00:46<01:34,  1.70it/s]"
     ]
    },
    {
     "name": "stdout",
     "output_type": "stream",
     "text": [
      " \t\tFrame Count:12\n",
      "./data/raw_frames/violentflow/football_crowds_cheering__Goldfellas_GT_vs_Maryland_1999_Crowd_Shot__tonyanddanielleoliva__xiCWDdaUSbg\n"
     ]
    },
    {
     "name": "stderr",
     "output_type": "stream",
     "text": [
      "\r",
      " 35%|███▍      | 86/246 [00:47<01:18,  2.03it/s]"
     ]
    },
    {
     "name": "stdout",
     "output_type": "stream",
     "text": [
      " \t\tFrame Count:3\n",
      "./data/raw_frames/violentflow/football_crowds_cheering__Hajduk_Split_vs_Dinamo_Zagreb_28_May_2009_Croatia_Cup_Final__jay\n"
     ]
    },
    {
     "name": "stderr",
     "output_type": "stream",
     "text": [
      "\r",
      " 35%|███▌      | 87/246 [00:47<01:19,  2.01it/s]"
     ]
    },
    {
     "name": "stdout",
     "output_type": "stream",
     "text": [
      " \t\tFrame Count:10\n",
      "./data/raw_frames/violentflow/football_crowds_cheering__Hamburg_Fan_Party_Opening_Match_World_Cup_2006__Dee162__6ROznW9c\n"
     ]
    },
    {
     "name": "stderr",
     "output_type": "stream",
     "text": [
      "\r",
      " 36%|███▌      | 88/246 [00:48<01:20,  1.97it/s]"
     ]
    },
    {
     "name": "stdout",
     "output_type": "stream",
     "text": [
      " \t\tFrame Count:11\n",
      "./data/raw_frames/violentflow/football_crowds_cheering__Human_LCD_Close_Up_Video_SOUTH_KOREA__rnqhdtnr__7Jgkm2pdWgY\n"
     ]
    },
    {
     "name": "stderr",
     "output_type": "stream",
     "text": [
      "\r",
      " 36%|███▌      | 89/246 [00:48<01:31,  1.71it/s]"
     ]
    },
    {
     "name": "stdout",
     "output_type": "stream",
     "text": [
      " \t\tFrame Count:13\n",
      "./data/raw_frames/violentflow/football_crowds_cheering__I_O_W_A__temery16__EDS_jct18FA\n"
     ]
    },
    {
     "name": "stderr",
     "output_type": "stream",
     "text": [
      "\r",
      " 37%|███▋      | 90/246 [00:49<01:27,  1.79it/s]"
     ]
    },
    {
     "name": "stdout",
     "output_type": "stream",
     "text": [
      " \t\tFrame Count:11\n",
      "./data/raw_frames/violentflow/football_crowds_cheering__Inside_the_Iowa_Spirit_Squads__uimediaproduction__V365Mro2t88\n"
     ]
    },
    {
     "name": "stderr",
     "output_type": "stream",
     "text": [
      "\r",
      " 37%|███▋      | 91/246 [00:50<01:31,  1.70it/s]"
     ]
    },
    {
     "name": "stdout",
     "output_type": "stream",
     "text": [
      " \t\tFrame Count:12\n",
      "./data/raw_frames/violentflow/football_crowds_cheering__IU_Football_travels_to_Michigan__wtiu__GkRsT40daQ0\n"
     ]
    },
    {
     "name": "stderr",
     "output_type": "stream",
     "text": [
      "\r",
      " 37%|███▋      | 92/246 [00:51<01:53,  1.36it/s]"
     ]
    },
    {
     "name": "stdout",
     "output_type": "stream",
     "text": [
      " \t\tFrame Count:13\n",
      "./data/raw_frames/violentflow/football_crowds_cheering__Jacksonville_Jaguar_Promo__joshlee1090__jIoVPOVXuww\n"
     ]
    },
    {
     "name": "stderr",
     "output_type": "stream",
     "text": [
      "\r",
      " 38%|███▊      | 93/246 [00:52<01:57,  1.30it/s]"
     ]
    },
    {
     "name": "stdout",
     "output_type": "stream",
     "text": [
      " \t\tFrame Count:10\n",
      "./data/raw_frames/violentflow/football_crowds_cheering__Jaguars_vs_Broncos_in_HD__misspfaff__LPM8ONCnh2g\n"
     ]
    },
    {
     "name": "stderr",
     "output_type": "stream",
     "text": [
      "\r",
      " 38%|███▊      | 94/246 [00:52<01:55,  1.32it/s]"
     ]
    },
    {
     "name": "stdout",
     "output_type": "stream",
     "text": [
      " \t\tFrame Count:12\n",
      "./data/raw_frames/violentflow/football_crowds_cheering__Jon_and_JJ_The_Elder_Crowd__jonandjj__NCFv0XMyvUk\n"
     ]
    },
    {
     "name": "stderr",
     "output_type": "stream",
     "text": [
      "\r",
      " 39%|███▊      | 95/246 [00:53<01:48,  1.39it/s]"
     ]
    },
    {
     "name": "stdout",
     "output_type": "stream",
     "text": [
      " \t\tFrame Count:12\n",
      "./data/raw_frames/violentflow/football_crowds_cheering__K_State_fans_chant_WE_OWN_TEXAS__rockCHOKE21__YVr3IdD6rpY\n"
     ]
    },
    {
     "name": "stderr",
     "output_type": "stream",
     "text": [
      "\r",
      " 39%|███▉      | 96/246 [00:54<01:43,  1.44it/s]"
     ]
    },
    {
     "name": "stdout",
     "output_type": "stream",
     "text": [
      " \t\tFrame Count:11\n",
      "./data/raw_frames/violentflow/football_crowds_cheering__Kickoff_in_Camp_Randall__spt414__bEZahnaRpmQ\n"
     ]
    },
    {
     "name": "stderr",
     "output_type": "stream",
     "text": [
      "\r",
      " 39%|███▉      | 97/246 [00:54<01:44,  1.42it/s]"
     ]
    },
    {
     "name": "stdout",
     "output_type": "stream",
     "text": [
      " \t\tFrame Count:12\n",
      "./data/raw_frames/violentflow/football_crowds_cheering__larson_is_welcomed_to_OT__mc4566__sBVBkxmK3VY\n"
     ]
    },
    {
     "name": "stderr",
     "output_type": "stream",
     "text": [
      "\r",
      " 40%|███▉      | 98/246 [00:55<01:46,  1.38it/s]"
     ]
    },
    {
     "name": "stdout",
     "output_type": "stream",
     "text": [
      " \t\tFrame Count:11\n",
      "./data/raw_frames/violentflow/football_crowds_cheering__LIVE_SQUAD_Morgan_State_University_Band_Pep_Club__DShock17__2x96\n"
     ]
    },
    {
     "name": "stderr",
     "output_type": "stream",
     "text": [
      "\r",
      " 40%|████      | 99/246 [00:56<01:46,  1.38it/s]"
     ]
    },
    {
     "name": "stdout",
     "output_type": "stream",
     "text": [
      " \t\tFrame Count:13\n",
      "./data/raw_frames/violentflow/football_crowds_cheering__LSU_Game_Day__LSU__dyxtnGpQ3lg\n"
     ]
    },
    {
     "name": "stderr",
     "output_type": "stream",
     "text": [
      "\r",
      " 41%|████      | 100/246 [00:56<01:43,  1.41it/s]"
     ]
    },
    {
     "name": "stdout",
     "output_type": "stream",
     "text": [
      " \t\tFrame Count:11\n",
      "./data/raw_frames/violentflow/football_crowds_cheering__MAN_DROPS_BEER_STATE_OF_ORIGIN_2009__afhb2512__rLoVsCv00Ao\n"
     ]
    },
    {
     "name": "stderr",
     "output_type": "stream",
     "text": [
      "\r",
      " 41%|████      | 101/246 [00:57<01:51,  1.30it/s]"
     ]
    },
    {
     "name": "stdout",
     "output_type": "stream",
     "text": [
      " \t\tFrame Count:11\n",
      "./data/raw_frames/violentflow/football_crowds_cheering__mu_beats_ku_victory_celebration__brennanhobart__q7ANQ6HCRIU\n",
      " \t\tFrame Count:13\n"
     ]
    },
    {
     "name": "stderr",
     "output_type": "stream",
     "text": [
      "\r",
      " 41%|████▏     | 102/246 [00:58<01:54,  1.26it/s]"
     ]
    },
    {
     "name": "stdout",
     "output_type": "stream",
     "text": [
      "./data/raw_frames/violentflow/football_crowds_cheering__New_Mexico_Men_s_Soccer_Crowd_Atmosphere__menslobosoccer__us9aHz\n"
     ]
    },
    {
     "name": "stderr",
     "output_type": "stream",
     "text": [
      "\r",
      " 42%|████▏     | 103/246 [00:59<01:46,  1.35it/s]"
     ]
    },
    {
     "name": "stdout",
     "output_type": "stream",
     "text": [
      " \t\tFrame Count:11\n",
      "./data/raw_frames/violentflow/football_crowds_cheering__Oregon_Ducks_vs_USC_Trojans_10_31_09__thatssnorthwest__9f0fI4-sF\n"
     ]
    },
    {
     "name": "stderr",
     "output_type": "stream",
     "text": [
      "\r",
      " 42%|████▏     | 104/246 [01:00<01:47,  1.32it/s]"
     ]
    },
    {
     "name": "stdout",
     "output_type": "stream",
     "text": [
      " \t\tFrame Count:10\n",
      "./data/raw_frames/violentflow/football_crowds_cheering__Penn_State_Crowd__mam1042__-yp5n8JJ-zA\n"
     ]
    },
    {
     "name": "stderr",
     "output_type": "stream",
     "text": [
      "\r",
      " 43%|████▎     | 105/246 [01:00<01:38,  1.43it/s]"
     ]
    },
    {
     "name": "stdout",
     "output_type": "stream",
     "text": [
      " \t\tFrame Count:11\n",
      "./data/raw_frames/violentflow/football_crowds_cheering__rowdy_crowd_at_Football_game__andyisalive__RWnAoJdeXsE\n"
     ]
    },
    {
     "name": "stderr",
     "output_type": "stream",
     "text": [
      "\r",
      " 43%|████▎     | 106/246 [01:01<01:36,  1.45it/s]"
     ]
    },
    {
     "name": "stdout",
     "output_type": "stream",
     "text": [
      " \t\tFrame Count:13\n",
      "./data/raw_frames/violentflow/football_crowds_cheering__Sandy_Creek_High_School_Football__cartmanspeedzone__jpX-DHradPo\n"
     ]
    },
    {
     "name": "stderr",
     "output_type": "stream",
     "text": [
      "\r",
      " 43%|████▎     | 107/246 [01:02<01:45,  1.32it/s]"
     ]
    },
    {
     "name": "stdout",
     "output_type": "stream",
     "text": [
      " \t\tFrame Count:13\n",
      "./data/raw_frames/violentflow/football_crowds_cheering__Scenes_from_Friday_s_ESPN_College_Game_Day_at_UK__UKSGREAT__dXA5\n"
     ]
    },
    {
     "name": "stderr",
     "output_type": "stream",
     "text": [
      "\r",
      " 44%|████▍     | 108/246 [01:02<01:40,  1.38it/s]"
     ]
    },
    {
     "name": "stdout",
     "output_type": "stream",
     "text": [
      " \t\tFrame Count:11\n",
      "./data/raw_frames/violentflow/football_crowds_cheering__Spartans_What_Is_Your_Profession_Chant__PaulWaLL4EvR__KeWNYvvINZ\n"
     ]
    },
    {
     "name": "stderr",
     "output_type": "stream",
     "text": [
      "\r",
      " 44%|████▍     | 109/246 [01:03<01:41,  1.35it/s]"
     ]
    },
    {
     "name": "stdout",
     "output_type": "stream",
     "text": [
      " \t\tFrame Count:12\n",
      "./data/raw_frames/violentflow/football_crowds_cheering__Sunderland_Goal_against_Wigan__adamfearman__yXSc-kCWBjY\n"
     ]
    },
    {
     "name": "stderr",
     "output_type": "stream",
     "text": [
      "\r",
      " 45%|████▍     | 110/246 [01:04<01:47,  1.26it/s]"
     ]
    },
    {
     "name": "stdout",
     "output_type": "stream",
     "text": [
      " \t\tFrame Count:12\n",
      "./data/raw_frames/violentflow/football_crowds_cheering__Tallest_Cup_Stack_in_Football_Fan_History__break__ofi003Eec_E\n"
     ]
    },
    {
     "name": "stderr",
     "output_type": "stream",
     "text": [
      "\r",
      " 45%|████▌     | 111/246 [01:05<01:43,  1.30it/s]"
     ]
    },
    {
     "name": "stdout",
     "output_type": "stream",
     "text": [
      " \t\tFrame Count:12\n",
      "./data/raw_frames/violentflow/football_crowds_cheering__TCU_Fans_Cheer_The_Biggest_Crowd_In_TCU_History_at_Amon_Carter_S\n"
     ]
    },
    {
     "name": "stderr",
     "output_type": "stream",
     "text": [
      "\r",
      " 46%|████▌     | 112/246 [01:06<01:58,  1.13it/s]"
     ]
    },
    {
     "name": "stdout",
     "output_type": "stream",
     "text": [
      " \t\tFrame Count:10\n",
      "./data/raw_frames/violentflow/football_crowds_cheering__The_Crowd__Rosiercentral__aqIzMGff5ak\n"
     ]
    },
    {
     "name": "stderr",
     "output_type": "stream",
     "text": [
      "\r",
      " 46%|████▌     | 113/246 [01:06<01:40,  1.32it/s]"
     ]
    },
    {
     "name": "stdout",
     "output_type": "stream",
     "text": [
      " \t\tFrame Count:11\n",
      "./data/raw_frames/violentflow/football_crowds_cheering__The_Greatest_Game_of_the_Year__MarcelloMussarela__lmJVKXUQPJA\n",
      " \t\tFrame Count:11\n"
     ]
    },
    {
     "name": "stderr",
     "output_type": "stream",
     "text": [
      "\r",
      " 46%|████▋     | 114/246 [01:07<01:28,  1.49it/s]"
     ]
    },
    {
     "name": "stdout",
     "output_type": "stream",
     "text": [
      "./data/raw_frames/violentflow/football_crowds_cheering__The_Ohio_State_University_Cheer__DEXTERTEEOHIO__FM9Jcpixqz0\n"
     ]
    },
    {
     "name": "stderr",
     "output_type": "stream",
     "text": [
      "\r",
      " 47%|████▋     | 115/246 [01:08<01:38,  1.32it/s]"
     ]
    },
    {
     "name": "stdout",
     "output_type": "stream",
     "text": [
      " \t\tFrame Count:15\n",
      "./data/raw_frames/violentflow/football_crowds_cheering__The_Wave_at_The_Big_Game__contron__DBQaM3PVLqA\n"
     ]
    },
    {
     "name": "stderr",
     "output_type": "stream",
     "text": [
      "\r",
      " 47%|████▋     | 116/246 [01:09<01:36,  1.35it/s]"
     ]
    },
    {
     "name": "stdout",
     "output_type": "stream",
     "text": [
      " \t\tFrame Count:11\n",
      "./data/raw_frames/violentflow/football_crowds_cheering__Totally_Stupid_Footballers_Series_1_Episode_5_An_Ending_With_A_H\n",
      " \t\tFrame Count:12\n"
     ]
    },
    {
     "name": "stderr",
     "output_type": "stream",
     "text": [
      "\r",
      " 48%|████▊     | 117/246 [01:09<01:36,  1.33it/s]"
     ]
    },
    {
     "name": "stdout",
     "output_type": "stream",
     "text": [
      "./data/raw_frames/violentflow/football_crowds_cheering__UF_Cheering_style__Playersgod__RaBmHs4MdLo\n",
      " \t\tFrame Count:11\n"
     ]
    },
    {
     "name": "stderr",
     "output_type": "stream",
     "text": [
      "\r",
      " 48%|████▊     | 118/246 [01:10<01:28,  1.44it/s]"
     ]
    },
    {
     "name": "stdout",
     "output_type": "stream",
     "text": [
      "./data/raw_frames/violentflow/football_crowds_cheering__Vanier_Cup_2009_Queen_s_Gaels_vs_Calgary_Dinos_HD__Treps___J5TDF\n",
      " \t\tFrame Count:15\n"
     ]
    },
    {
     "name": "stderr",
     "output_type": "stream",
     "text": [
      "\r",
      " 48%|████▊     | 119/246 [01:11<01:54,  1.11it/s]"
     ]
    },
    {
     "name": "stdout",
     "output_type": "stream",
     "text": [
      "./data/raw_frames/violentflow/football_crowds_cheering__Varsity_Football_Cardinal_O_Hara_vs_Roman_Catholic__Varsity365__\n",
      " \t\tFrame Count:11\n"
     ]
    },
    {
     "name": "stderr",
     "output_type": "stream",
     "text": [
      "\r",
      " 49%|████▉     | 120/246 [01:12<01:41,  1.24it/s]"
     ]
    },
    {
     "name": "stdout",
     "output_type": "stream",
     "text": [
      "./data/raw_frames/violentflow/football_crowds_cheering__Varsity_Football_Conestoga_at_Ridley__Varsity365__wR3tNpXRcYg\n",
      " \t\tFrame Count:12\n"
     ]
    },
    {
     "name": "stderr",
     "output_type": "stream",
     "text": [
      "\r",
      " 49%|████▉     | 121/246 [01:12<01:32,  1.36it/s]"
     ]
    },
    {
     "name": "stdout",
     "output_type": "stream",
     "text": [
      "./data/raw_frames/violentflow/football_crowds_cheering__Welcome_Home_ACC_Champions_part_A__jamesllvt__UGurBSFE8Es\n",
      " \t\tFrame Count:11\n"
     ]
    },
    {
     "name": "stderr",
     "output_type": "stream",
     "text": [
      "\r",
      " 50%|████▉     | 122/246 [01:13<01:34,  1.31it/s]"
     ]
    },
    {
     "name": "stdout",
     "output_type": "stream",
     "text": [
      "./data/raw_frames/violentflow/football_crowds_cheering__World_Cup_2010_Korea_vs_Uruguay_Han_River_Seoul_Korea_Ties_Game_\n",
      " \t\tFrame Count:12\n"
     ]
    },
    {
     "name": "stderr",
     "output_type": "stream",
     "text": [
      "\r",
      " 50%|█████     | 123/246 [01:14<01:27,  1.41it/s]"
     ]
    },
    {
     "name": "stdout",
     "output_type": "stream",
     "text": [
      "./data/raw_frames/violentflow/football_crowds_cheering__World_Cup_2010_Korea_vs_Uruguay_Han_River_Seoul_Pre_game__vivach\n",
      " \t\tFrame Count:13\n"
     ]
    },
    {
     "name": "stderr",
     "output_type": "stream",
     "text": [
      "\r",
      " 50%|█████     | 124/246 [01:14<01:20,  1.51it/s]"
     ]
    },
    {
     "name": "stdout",
     "output_type": "stream",
     "text": [
      "./data/raw_frames/violentflow/football_fans__FootBall_Fans_Violence__xxxXLsDXxxx__EaCpQJLdxJ8\n"
     ]
    },
    {
     "name": "stderr",
     "output_type": "stream",
     "text": [
      "\r",
      " 51%|█████     | 125/246 [01:15<01:18,  1.54it/s]"
     ]
    },
    {
     "name": "stdout",
     "output_type": "stream",
     "text": [
      " \t\tFrame Count:12\n",
      "./data/raw_frames/violentflow/football_fans__Football_Hooligans__ELGmedia__7by8qY2C258\n"
     ]
    },
    {
     "name": "stderr",
     "output_type": "stream",
     "text": [
      "\r",
      " 51%|█████     | 126/246 [01:16<01:16,  1.56it/s]"
     ]
    },
    {
     "name": "stdout",
     "output_type": "stream",
     "text": [
      " \t\tFrame Count:11\n",
      "./data/raw_frames/violentflow/football_fans__World_football_compilation_ultras_players_hooligans_emotions__ex\n",
      " \t\tFrame Count:12\n"
     ]
    },
    {
     "name": "stderr",
     "output_type": "stream",
     "text": [
      "\r",
      " 52%|█████▏    | 127/246 [01:16<01:22,  1.43it/s]"
     ]
    },
    {
     "name": "stdout",
     "output_type": "stream",
     "text": [
      "./data/raw_frames/violentflow/football_violence__A_Town_Called_Football_by_Nil_Satis__louderthanyourface__Ptvoh4L_FxY\n",
      " \t\tFrame Count:10\n"
     ]
    },
    {
     "name": "stderr",
     "output_type": "stream",
     "text": [
      "\r",
      " 52%|█████▏    | 128/246 [01:17<01:14,  1.58it/s]"
     ]
    },
    {
     "name": "stdout",
     "output_type": "stream",
     "text": [
      "./data/raw_frames/violentflow/football_violence__Accidents_Fights_Violence_Tragedies_Hooligans_Football_Fights_HORRIBLE_THINGS__darkhero00__PgujG07PUq0\n"
     ]
    },
    {
     "name": "stderr",
     "output_type": "stream",
     "text": [
      "\r",
      " 52%|█████▏    | 129/246 [01:17<01:06,  1.76it/s]"
     ]
    },
    {
     "name": "stdout",
     "output_type": "stream",
     "text": [
      " \t\tFrame Count:10\n",
      "./data/raw_frames/violentflow/football_violence__ardcore_hooligans__bigmunro60__9tkj8gtIoNM\n",
      " \t\tFrame Count:11\n"
     ]
    },
    {
     "name": "stderr",
     "output_type": "stream",
     "text": [
      "\r",
      " 53%|█████▎    | 130/246 [01:18<01:02,  1.84it/s]"
     ]
    },
    {
     "name": "stdout",
     "output_type": "stream",
     "text": [
      "./data/raw_frames/violentflow/football_violence__baseball_hockey_football_soccer_violence__Zetrom69__aQ5nh4xRak0\n",
      " \t\tFrame Count:15\n"
     ]
    },
    {
     "name": "stderr",
     "output_type": "stream",
     "text": [
      "\r",
      " 53%|█████▎    | 131/246 [01:19<01:11,  1.60it/s]"
     ]
    },
    {
     "name": "stdout",
     "output_type": "stream",
     "text": [
      "./data/raw_frames/violentflow/football_violence__British_Football_Hooligans_Mix_3__MorningGlory1997__kW23lUV6oFk\n",
      " \t\tFrame Count:11\n"
     ]
    },
    {
     "name": "stderr",
     "output_type": "stream",
     "text": [
      "\r",
      " 54%|█████▎    | 132/246 [01:19<01:04,  1.76it/s]"
     ]
    },
    {
     "name": "stdout",
     "output_type": "stream",
     "text": [
      "./data/raw_frames/violentflow/football_violence__Brutal_fight_of_the_hooligans_in_Europe__CocaineBaron__ctbwtUZfhY4\n",
      " \t\tFrame Count:12\n"
     ]
    },
    {
     "name": "stderr",
     "output_type": "stream",
     "text": [
      "\r",
      " 54%|█████▍    | 133/246 [01:20<01:04,  1.75it/s]"
     ]
    },
    {
     "name": "stdout",
     "output_type": "stream",
     "text": [
      "./data/raw_frames/violentflow/football_violence__Brutal_fight_of_the_hooligans_in_Europe_Switzerland__CocaineBaron__VmPNqxBRRIQ\n",
      " \t\tFrame Count:12\n"
     ]
    },
    {
     "name": "stderr",
     "output_type": "stream",
     "text": [
      "\r",
      " 54%|█████▍    | 134/246 [01:21<01:12,  1.54it/s]"
     ]
    },
    {
     "name": "stdout",
     "output_type": "stream",
     "text": [
      "./data/raw_frames/violentflow/football_violence__Danish_Hooligans_Exclusive_video__MosquitoTheRapist__t9IYNex9Nn4\n",
      " \t\tFrame Count:12\n"
     ]
    },
    {
     "name": "stderr",
     "output_type": "stream",
     "text": [
      "\r",
      " 55%|█████▍    | 135/246 [01:21<01:11,  1.54it/s]"
     ]
    },
    {
     "name": "stdout",
     "output_type": "stream",
     "text": [
      "./data/raw_frames/violentflow/football_violence__english_football_hooligans__ohnoherewego1234__ydTykaGO-Dg\n",
      " \t\tFrame Count:11\n"
     ]
    },
    {
     "name": "stderr",
     "output_type": "stream",
     "text": [
      "\r",
      " 55%|█████▌    | 136/246 [01:22<01:06,  1.66it/s]"
     ]
    },
    {
     "name": "stdout",
     "output_type": "stream",
     "text": [
      "./data/raw_frames/violentflow/football_violence__English_Football_Hooligans_Euro_2000__MorningGlory1997__6xAQGS0fodE\n",
      " \t\tFrame Count:12\n"
     ]
    },
    {
     "name": "stderr",
     "output_type": "stream",
     "text": [
      "\r",
      " 56%|█████▌    | 137/246 [01:22<01:11,  1.52it/s]"
     ]
    },
    {
     "name": "stdout",
     "output_type": "stream",
     "text": [
      "./data/raw_frames/violentflow/football_violence__English_Hooligans__JohnLaw__Wob3r1Leamw\n",
      " \t\tFrame Count:11\n"
     ]
    },
    {
     "name": "stderr",
     "output_type": "stream",
     "text": [
      "\r",
      " 56%|█████▌    | 138/246 [01:23<01:05,  1.64it/s]"
     ]
    },
    {
     "name": "stdout",
     "output_type": "stream",
     "text": [
      "./data/raw_frames/violentflow/football_violence__Football_Factory_PV_by_Daryl_T_Fave_Films_Clips__LogicBomb777__vnwttRPHdnw\n",
      " \t\tFrame Count:11\n"
     ]
    },
    {
     "name": "stderr",
     "output_type": "stream",
     "text": [
      "\r",
      " 57%|█████▋    | 139/246 [01:23<00:59,  1.81it/s]"
     ]
    },
    {
     "name": "stdout",
     "output_type": "stream",
     "text": [
      "./data/raw_frames/violentflow/football_violence__Football_Hooligans_Cardiff_v_Barnsley_2003__MorningGlory1997__mSS7490HcJI\n",
      " \t\tFrame Count:11\n"
     ]
    },
    {
     "name": "stderr",
     "output_type": "stream",
     "text": [
      "\r",
      " 57%|█████▋    | 140/246 [01:24<00:58,  1.82it/s]"
     ]
    },
    {
     "name": "stdout",
     "output_type": "stream",
     "text": [
      "./data/raw_frames/violentflow/football_violence__Football_Hooligans_Carlisle_v_Preston_1993__prestonparasoccer__JfLHSqKm9zg\n",
      " \t\tFrame Count:11\n"
     ]
    },
    {
     "name": "stderr",
     "output_type": "stream",
     "text": [
      "\r",
      " 57%|█████▋    | 141/246 [01:24<00:56,  1.85it/s]"
     ]
    },
    {
     "name": "stdout",
     "output_type": "stream",
     "text": [
      "./data/raw_frames/violentflow/football_violence__Football_hooligans_fighting_in_Helsinki_WCQL_Finland_Russia__f43344__n3yajhkWI6w\n",
      " \t\tFrame Count:13\n"
     ]
    },
    {
     "name": "stderr",
     "output_type": "stream",
     "text": [
      "\r",
      " 58%|█████▊    | 142/246 [01:25<00:58,  1.79it/s]"
     ]
    },
    {
     "name": "stdout",
     "output_type": "stream",
     "text": [
      "./data/raw_frames/violentflow/football_violence__Football_Hooligans_Finland_v_Russia_World_Cup_Qualifier_June_2009__lancashirelads__SmxsnplMtb8\n",
      " \t\tFrame Count:10\n"
     ]
    },
    {
     "name": "stderr",
     "output_type": "stream",
     "text": [
      "\r",
      " 58%|█████▊    | 143/246 [01:26<00:59,  1.73it/s]"
     ]
    },
    {
     "name": "stdout",
     "output_type": "stream",
     "text": [
      "./data/raw_frames/violentflow/football_violence__Football_Hooligans_Germany_v_Poland_Euro_2008__MorningGlory1997__gtaGluIXEaU\n",
      " \t\tFrame Count:12\n"
     ]
    },
    {
     "name": "stderr",
     "output_type": "stream",
     "text": [
      "\r",
      " 59%|█████▊    | 144/246 [01:26<00:58,  1.76it/s]"
     ]
    },
    {
     "name": "stdout",
     "output_type": "stream",
     "text": [
      "./data/raw_frames/violentflow/football_violence__Football_Hooligans_Hull_Pub_Brawl_News_Report__lancashirelads__--3xfJHXlOc\n",
      " \t\tFrame Count:10\n"
     ]
    },
    {
     "name": "stderr",
     "output_type": "stream",
     "text": [
      "\r",
      " 59%|█████▉    | 145/246 [01:27<00:56,  1.80it/s]"
     ]
    },
    {
     "name": "stdout",
     "output_type": "stream",
     "text": [
      "./data/raw_frames/violentflow/football_violence__Football_Hooligans_Leeds_v_Wolves_2005__MorningGlory1997__f66MTrNLPL0\n",
      " \t\tFrame Count:11\n"
     ]
    },
    {
     "name": "stderr",
     "output_type": "stream",
     "text": [
      "\r",
      " 59%|█████▉    | 146/246 [01:27<00:54,  1.84it/s]"
     ]
    },
    {
     "name": "stdout",
     "output_type": "stream",
     "text": [
      "./data/raw_frames/violentflow/football_violence__Football_Hooligans_Man_City_v_Man_United_1989__lancashirelads__r\n",
      " \t\tFrame Count:11\n"
     ]
    },
    {
     "name": "stderr",
     "output_type": "stream",
     "text": [
      "\r",
      " 60%|█████▉    | 147/246 [01:28<01:00,  1.64it/s]"
     ]
    },
    {
     "name": "stdout",
     "output_type": "stream",
     "text": [
      "./data/raw_frames/violentflow/football_violence__Football_Hooligans_Manchester_City_v_Manchester_United_1989__foothool__ISt-Ir7bb3Y\n",
      " \t\tFrame Count:11\n"
     ]
    },
    {
     "name": "stderr",
     "output_type": "stream",
     "text": [
      "\r",
      " 60%|██████    | 148/246 [01:29<01:02,  1.57it/s]"
     ]
    },
    {
     "name": "stdout",
     "output_type": "stream",
     "text": [
      "./data/raw_frames/violentflow/football_violence__Football_Hooligans_Millwall_Compilation__MorningGlory1997__U-CsDQik3sw\n",
      " \t\tFrame Count:11\n"
     ]
    },
    {
     "name": "stderr",
     "output_type": "stream",
     "text": [
      "\r",
      " 61%|██████    | 149/246 [01:29<00:59,  1.63it/s]"
     ]
    },
    {
     "name": "stdout",
     "output_type": "stream",
     "text": [
      "./data/raw_frames/violentflow/football_violence__Football_Hooligans_Preston_North_End_Mix__prestonparasoccer__qwrOc8xmlpY\n",
      " \t\tFrame Count:11\n"
     ]
    },
    {
     "name": "stderr",
     "output_type": "stream",
     "text": [
      "\r",
      " 61%|██████    | 150/246 [01:30<00:57,  1.67it/s]"
     ]
    },
    {
     "name": "stdout",
     "output_type": "stream",
     "text": [
      "./data/raw_frames/violentflow/football_violence__Football_Hooligans_QPR_v_Luton_St_Pancras__prestonparasoccer__DNL6VlA3hnQ\n",
      " \t\tFrame Count:11\n"
     ]
    },
    {
     "name": "stderr",
     "output_type": "stream",
     "text": [
      "\r",
      " 61%|██████▏   | 151/246 [01:30<00:52,  1.81it/s]"
     ]
    },
    {
     "name": "stdout",
     "output_type": "stream",
     "text": [
      "./data/raw_frames/violentflow/football_violence__Football_Hooligans_Russia_v_England_News_Report__prestonparasocc\n",
      " \t\tFrame Count:11\n"
     ]
    },
    {
     "name": "stderr",
     "output_type": "stream",
     "text": [
      "\r",
      " 62%|██████▏   | 152/246 [01:31<00:49,  1.90it/s]"
     ]
    },
    {
     "name": "stdout",
     "output_type": "stream",
     "text": [
      "./data/raw_frames/violentflow/football_violence__Football_hooligans_Watford_Luton_2002__MrSmasherlad__ClZOLHYj_7Y\n",
      " \t\tFrame Count:11\n"
     ]
    },
    {
     "name": "stderr",
     "output_type": "stream",
     "text": [
      "\r",
      " 62%|██████▏   | 153/246 [01:31<00:50,  1.85it/s]"
     ]
    },
    {
     "name": "stdout",
     "output_type": "stream",
     "text": [
      "./data/raw_frames/violentflow/football_violence__Football_Hooligans_Watford_v_Luton_2002_Version_1__MorningGlory1997__vLOTaR9eMlg\n",
      " \t\tFrame Count:11\n"
     ]
    },
    {
     "name": "stderr",
     "output_type": "stream",
     "text": [
      "\r",
      " 63%|██████▎   | 154/246 [01:32<00:50,  1.82it/s]"
     ]
    },
    {
     "name": "stdout",
     "output_type": "stream",
     "text": [
      "./data/raw_frames/violentflow/football_violence__football_match_violence__mld0491__WL6AUKgOYSs\n",
      " \t\tFrame Count:10\n"
     ]
    },
    {
     "name": "stderr",
     "output_type": "stream",
     "text": [
      "\r",
      " 63%|██████▎   | 155/246 [01:32<00:48,  1.87it/s]"
     ]
    },
    {
     "name": "stdout",
     "output_type": "stream",
     "text": [
      "./data/raw_frames/violentflow/football_violence__Football_Soccer_Hooligans_Movie_Scenes__mclarenfan04__KHP6fQdrFlE\n",
      " \t\tFrame Count:12\n"
     ]
    },
    {
     "name": "stderr",
     "output_type": "stream",
     "text": [
      "\r",
      " 63%|██████▎   | 156/246 [01:33<00:54,  1.66it/s]"
     ]
    },
    {
     "name": "stdout",
     "output_type": "stream",
     "text": [
      "./data/raw_frames/violentflow/football_violence__Football_violence_3__reklamomand__SjUBX5K5QRo\n",
      " \t\tFrame Count:12\n"
     ]
    },
    {
     "name": "stderr",
     "output_type": "stream",
     "text": [
      "\r",
      " 64%|██████▍   | 157/246 [01:34<00:51,  1.73it/s]"
     ]
    },
    {
     "name": "stdout",
     "output_type": "stream",
     "text": [
      "./data/raw_frames/violentflow/football_violence__football_violence__Brannik_Football_Violence__Elbsturm1488__7NyYlQX-tiI\n",
      " \t\tFrame Count:11\n"
     ]
    },
    {
     "name": "stderr",
     "output_type": "stream",
     "text": [
      "\r",
      " 64%|██████▍   | 158/246 [01:34<00:50,  1.73it/s]"
     ]
    },
    {
     "name": "stdout",
     "output_type": "stream",
     "text": [
      "./data/raw_frames/violentflow/football_violence__Football_violence__lamufle__ucUm3sb39Cs\n",
      " \t\tFrame Count:11\n"
     ]
    },
    {
     "name": "stderr",
     "output_type": "stream",
     "text": [
      "\r",
      " 65%|██████▍   | 159/246 [01:35<00:49,  1.76it/s]"
     ]
    },
    {
     "name": "stdout",
     "output_type": "stream",
     "text": [
      "./data/raw_frames/violentflow/football_violence__Football_Violence_Gais_AIK_2005__spliffpolitics__e4xiTNkfN0U\n",
      " \t\tFrame Count:13\n"
     ]
    },
    {
     "name": "stderr",
     "output_type": "stream",
     "text": [
      "\r",
      " 65%|██████▌   | 160/246 [01:36<00:52,  1.63it/s]"
     ]
    },
    {
     "name": "stdout",
     "output_type": "stream",
     "text": [
      "./data/raw_frames/violentflow/football_violence__Footballs_Blood_Sport_prt_1__Tramppercy__WSCF2iLuRyk\n",
      " \t\tFrame Count:11\n"
     ]
    },
    {
     "name": "stderr",
     "output_type": "stream",
     "text": [
      "\r",
      " 65%|██████▌   | 161/246 [01:36<00:57,  1.49it/s]"
     ]
    },
    {
     "name": "stdout",
     "output_type": "stream",
     "text": [
      "./data/raw_frames/violentflow/football_violence__FUCK_YOU_FOOTBALL_HOOLIGANS_FRENZY_PART1_SCOTLAND__W00FAM__Yy73o\n",
      " \t\tFrame Count:11\n"
     ]
    },
    {
     "name": "stderr",
     "output_type": "stream",
     "text": [
      "\r",
      " 66%|██████▌   | 162/246 [01:37<00:51,  1.64it/s]"
     ]
    },
    {
     "name": "stdout",
     "output_type": "stream",
     "text": [
      "./data/raw_frames/violentflow/football_violence__FUCK_YOU_FOOTBALL_HOOLIGANS_RUSSIA_and_UKRAINE_part1__W00FAM__DB\n",
      " \t\tFrame Count:12\n"
     ]
    },
    {
     "name": "stderr",
     "output_type": "stream",
     "text": [
      "\r",
      " 66%|██████▋   | 163/246 [01:37<00:47,  1.74it/s]"
     ]
    },
    {
     "name": "stdout",
     "output_type": "stream",
     "text": [
      "./data/raw_frames/violentflow/football_violence__HOOLIGANS__mscs01__YWE3lKNm8aA\n",
      " \t\tFrame Count:14\n"
     ]
    },
    {
     "name": "stderr",
     "output_type": "stream",
     "text": [
      "\r",
      " 67%|██████▋   | 164/246 [01:38<00:49,  1.66it/s]"
     ]
    },
    {
     "name": "stdout",
     "output_type": "stream",
     "text": [
      "./data/raw_frames/violentflow/football_violence__Hooligans_no_talk_just_fights_docu_part_04__haagsejef23__GcP3SiwkmGo\n",
      " \t\tFrame Count:12\n"
     ]
    },
    {
     "name": "stderr",
     "output_type": "stream",
     "text": [
      "\r",
      " 67%|██████▋   | 165/246 [01:38<00:44,  1.81it/s]"
     ]
    },
    {
     "name": "stdout",
     "output_type": "stream",
     "text": [
      "./data/raw_frames/violentflow/football_violence__Hooligans_no_talk_just_fights_docu_part_09__haagsejef23__kRlCAD-3H40\n",
      " \t\tFrame Count:11\n"
     ]
    },
    {
     "name": "stderr",
     "output_type": "stream",
     "text": [
      "\r",
      " 67%|██████▋   | 166/246 [01:39<00:44,  1.79it/s]"
     ]
    },
    {
     "name": "stdout",
     "output_type": "stream",
     "text": [
      "./data/raw_frames/violentflow/football_violence__Polish_Hooligans__tigardojaja__YLSsmo2Glyk\n",
      " \t\tFrame Count:12\n"
     ]
    },
    {
     "name": "stderr",
     "output_type": "stream",
     "text": [
      "\r",
      " 68%|██████▊   | 167/246 [01:40<00:43,  1.81it/s]"
     ]
    },
    {
     "name": "stdout",
     "output_type": "stream",
     "text": [
      "./data/raw_frames/violentflow/football_violence__project_d_football_violence__henkiejwt__MFDeI2bK2Pk\n",
      " \t\tFrame Count:12\n"
     ]
    },
    {
     "name": "stderr",
     "output_type": "stream",
     "text": [
      "\r",
      " 68%|██████▊   | 168/246 [01:40<00:45,  1.72it/s]"
     ]
    },
    {
     "name": "stdout",
     "output_type": "stream",
     "text": [
      "./data/raw_frames/violentflow/football_violence__Roma_vs_Man_United_Police_violence_DANISH_TV__7Anotnac7__gIfgEwL\n",
      " \t\tFrame Count:10\n"
     ]
    },
    {
     "name": "stderr",
     "output_type": "stream",
     "text": [
      "\r",
      " 69%|██████▊   | 169/246 [01:41<00:42,  1.80it/s]"
     ]
    },
    {
     "name": "stdout",
     "output_type": "stream",
     "text": [
      "./data/raw_frames/violentflow/football_violence__Violence_and_fascism_in_Ukrainian_football__soroktri43__eG8qryFn\n",
      " \t\tFrame Count:12\n"
     ]
    },
    {
     "name": "stderr",
     "output_type": "stream",
     "text": [
      "\r",
      " 69%|██████▉   | 170/246 [01:42<00:49,  1.53it/s]"
     ]
    },
    {
     "name": "stdout",
     "output_type": "stream",
     "text": [
      "./data/raw_frames/violentflow/group_violence__group_violence__football_violence__aliiie__qfKD35PYwok\n",
      " \t\tFrame Count:12\n"
     ]
    },
    {
     "name": "stderr",
     "output_type": "stream",
     "text": [
      "\r",
      " 70%|██████▉   | 171/246 [01:42<00:46,  1.60it/s]"
     ]
    },
    {
     "name": "stdout",
     "output_type": "stream",
     "text": [
      "./data/raw_frames/violentflow/Hooligans_violence__5x5_russian_hooligans_fight__Parkhom__GnfpwW6sMkc\n",
      " \t\tFrame Count:10\n"
     ]
    },
    {
     "name": "stderr",
     "output_type": "stream",
     "text": [
      "\r",
      " 70%|██████▉   | 172/246 [01:43<00:42,  1.73it/s]"
     ]
    },
    {
     "name": "stdout",
     "output_type": "stream",
     "text": [
      "./data/raw_frames/violentflow/Hooligans_violence__Accidents_Fights_Violence_Tragedies_Hooligans_Football_Fights_HORRIBLE_THINGS__darkhero00__PgujG07PUq0\n",
      " \t\tFrame Count:11\n"
     ]
    },
    {
     "name": "stderr",
     "output_type": "stream",
     "text": [
      "\r",
      " 70%|███████   | 173/246 [01:43<00:40,  1.82it/s]"
     ]
    },
    {
     "name": "stdout",
     "output_type": "stream",
     "text": [
      "./data/raw_frames/violentflow/Hooligans_violence__ACHTUNG_skinheads_hooligans__WHITENGEL1488__H2xnId9vOo0\n",
      " \t\tFrame Count:17\n"
     ]
    },
    {
     "name": "stderr",
     "output_type": "stream",
     "text": [
      "\r",
      " 71%|███████   | 174/246 [01:44<00:42,  1.71it/s]"
     ]
    },
    {
     "name": "stdout",
     "output_type": "stream",
     "text": [
      "./data/raw_frames/violentflow/Hooligans_violence__Croatia_Hooligans__EXB04__JQrSRtqoU_I\n",
      " \t\tFrame Count:11\n"
     ]
    },
    {
     "name": "stderr",
     "output_type": "stream",
     "text": [
      "\r",
      " 71%|███████   | 175/246 [01:44<00:45,  1.56it/s]"
     ]
    },
    {
     "name": "stdout",
     "output_type": "stream",
     "text": [
      "./data/raw_frames/violentflow/Hooligans_violence__English_Hooligans__JohnLaw__Wob3r1Leamw\n",
      " \t\tFrame Count:12\n"
     ]
    },
    {
     "name": "stderr",
     "output_type": "stream",
     "text": [
      "\r",
      " 72%|███████▏  | 176/246 [01:45<00:46,  1.51it/s]"
     ]
    },
    {
     "name": "stdout",
     "output_type": "stream",
     "text": [
      "./data/raw_frames/violentflow/Hooligans_violence__FENERBAHCE_ULTRAS_VS_COPS_VIOLENCE_RIOT__2maxpower1453__e7Bv5fTB\n",
      " \t\tFrame Count:11\n"
     ]
    },
    {
     "name": "stderr",
     "output_type": "stream",
     "text": [
      "\r",
      " 72%|███████▏  | 177/246 [01:46<00:44,  1.55it/s]"
     ]
    },
    {
     "name": "stdout",
     "output_type": "stream",
     "text": [
      "./data/raw_frames/violentflow/Hooligans_violence__Football_Hooligans_Carlisle_v_Preston_1993__prestonparasoccer__J\n",
      " \t\tFrame Count:11\n"
     ]
    },
    {
     "name": "stderr",
     "output_type": "stream",
     "text": [
      "\r",
      " 72%|███████▏  | 178/246 [01:46<00:42,  1.62it/s]"
     ]
    },
    {
     "name": "stdout",
     "output_type": "stream",
     "text": [
      "./data/raw_frames/violentflow/Hooligans_violence__Football_Hooligans_Finland_v_Russia_World_Cup_Qualifier_June_2009__lancashirelads__SmxsnplMtb8\n",
      " \t\tFrame Count:12\n"
     ]
    },
    {
     "name": "stderr",
     "output_type": "stream",
     "text": [
      "\r",
      " 73%|███████▎  | 179/246 [01:47<00:41,  1.62it/s]"
     ]
    },
    {
     "name": "stdout",
     "output_type": "stream",
     "text": [
      "./data/raw_frames/violentflow/Hooligans_violence__Football_Hooligans_Germany_v_Poland_Euro_2008__MorningGlory1997__gtaGluIXEaU\n",
      " \t\tFrame Count:10\n"
     ]
    },
    {
     "name": "stderr",
     "output_type": "stream",
     "text": [
      "\r",
      " 73%|███████▎  | 180/246 [01:47<00:39,  1.69it/s]"
     ]
    },
    {
     "name": "stdout",
     "output_type": "stream",
     "text": [
      "./data/raw_frames/violentflow/Hooligans_violence__Football_Hooligans_Hull_Pub_Brawl_News_Report__lancashirelads__--3xfJHXlOc\n",
      " \t\tFrame Count:11\n"
     ]
    },
    {
     "name": "stderr",
     "output_type": "stream",
     "text": [
      "\r",
      " 74%|███████▎  | 181/246 [01:48<00:38,  1.68it/s]"
     ]
    },
    {
     "name": "stdout",
     "output_type": "stream",
     "text": [
      "./data/raw_frames/violentflow/Hooligans_violence__Football_Hooligans_Preston_V_Bradford_2003__eliteborg__NLtW_TzoQm4\n",
      " \t\tFrame Count:12\n"
     ]
    },
    {
     "name": "stderr",
     "output_type": "stream",
     "text": [
      "\r",
      " 74%|███████▍  | 182/246 [01:49<00:42,  1.50it/s]"
     ]
    },
    {
     "name": "stdout",
     "output_type": "stream",
     "text": [
      "./data/raw_frames/violentflow/Hooligans_violence__Football_Hooligans_QPR_v_Luton_St_Pancras__prestonparasoccer__DNL6VlA3hnQ\n",
      " \t\tFrame Count:13\n"
     ]
    },
    {
     "name": "stderr",
     "output_type": "stream",
     "text": [
      "\r",
      " 74%|███████▍  | 183/246 [01:49<00:39,  1.60it/s]"
     ]
    },
    {
     "name": "stdout",
     "output_type": "stream",
     "text": [
      "./data/raw_frames/violentflow/Hooligans_violence__Football_hooligans_Reading_Swansea_1993__MrSmasherlad__9I7MpDQc82k\n",
      " \t\tFrame Count:12\n"
     ]
    },
    {
     "name": "stderr",
     "output_type": "stream",
     "text": [
      "\r",
      " 75%|███████▍  | 184/246 [01:50<00:36,  1.68it/s]"
     ]
    },
    {
     "name": "stdout",
     "output_type": "stream",
     "text": [
      "./data/raw_frames/violentflow/Hooligans_violence__FOOTBALL_HOOLIGANS_WEST_HAM_v_MILLWALL_AUGUST_2009_LONGER_VERSIO\n",
      " \t\tFrame Count:12\n"
     ]
    },
    {
     "name": "stderr",
     "output_type": "stream",
     "text": [
      "\r",
      " 75%|███████▌  | 185/246 [01:50<00:34,  1.79it/s]"
     ]
    },
    {
     "name": "stdout",
     "output_type": "stream",
     "text": [
      "./data/raw_frames/violentflow/Hooligans_violence__Footballs_Blood_Sport_prt2__Tramppercy__P9a6qZ3r90k\n",
      " \t\tFrame Count:12\n"
     ]
    },
    {
     "name": "stderr",
     "output_type": "stream",
     "text": [
      "\r",
      " 76%|███████▌  | 186/246 [01:51<00:34,  1.74it/s]"
     ]
    },
    {
     "name": "stdout",
     "output_type": "stream",
     "text": [
      "./data/raw_frames/violentflow/Hooligans_violence__Fuck_police_Let_s_riot__tigerland2222__Q2k-ZHCZBAk\n",
      " \t\tFrame Count:11\n"
     ]
    },
    {
     "name": "stderr",
     "output_type": "stream",
     "text": [
      "\r",
      " 76%|███████▌  | 187/246 [01:52<00:35,  1.68it/s]"
     ]
    },
    {
     "name": "stdout",
     "output_type": "stream",
     "text": [
      "./data/raw_frames/violentflow/Hooligans_violence__FUCK_YOU_FOOTBALL_HOOLIGANS_RUSSIA_and_UKRAINE_part1__W00FAM__DB9PSdrfulE\n",
      " \t\tFrame Count:11\n"
     ]
    },
    {
     "name": "stderr",
     "output_type": "stream",
     "text": [
      "\r",
      " 76%|███████▋  | 188/246 [01:52<00:33,  1.73it/s]"
     ]
    },
    {
     "name": "stdout",
     "output_type": "stream",
     "text": [
      "./data/raw_frames/violentflow/Hooligans_violence__Hooligans_Untold_Story_Part_2__UltrasHooligansFilms__BXBtZwzv3EI\n",
      " \t\tFrame Count:11\n"
     ]
    },
    {
     "name": "stderr",
     "output_type": "stream",
     "text": [
      "\r",
      " 77%|███████▋  | 189/246 [01:53<00:32,  1.76it/s]"
     ]
    },
    {
     "name": "stdout",
     "output_type": "stream",
     "text": [
      "./data/raw_frames/violentflow/Hooligans_violence__Hooligans_violence__BRANNIK_football_violence__KD666999__YTqe4xf5o6U\n",
      " \t\tFrame Count:11\n"
     ]
    },
    {
     "name": "stderr",
     "output_type": "stream",
     "text": [
      "\r",
      " 77%|███████▋  | 190/246 [01:54<00:34,  1.62it/s]"
     ]
    },
    {
     "name": "stdout",
     "output_type": "stream",
     "text": [
      "./data/raw_frames/violentflow/Hooligans_violence__Hooligans_war_in_Russian_vk__artemorlik__6UNj6fEgz8U\n",
      " \t\tFrame Count:12\n"
     ]
    },
    {
     "name": "stderr",
     "output_type": "stream",
     "text": [
      "\r",
      " 78%|███████▊  | 191/246 [01:54<00:35,  1.56it/s]"
     ]
    },
    {
     "name": "stdout",
     "output_type": "stream",
     "text": [
      "./data/raw_frames/violentflow/Hooligans_violence__I_D_Trailer__ImLonelyLinda__5Y26VMm4L7o\n",
      " \t\tFrame Count:13\n"
     ]
    },
    {
     "name": "stderr",
     "output_type": "stream",
     "text": [
      "\r",
      " 78%|███████▊  | 192/246 [01:55<00:35,  1.51it/s]"
     ]
    },
    {
     "name": "stdout",
     "output_type": "stream",
     "text": [
      "./data/raw_frames/violentflow/Hooligans_violence__Koudlam_See_you_All__panrecord__nFWgiZxnz7o\n",
      " \t\tFrame Count:10\n"
     ]
    },
    {
     "name": "stderr",
     "output_type": "stream",
     "text": [
      "\r",
      " 78%|███████▊  | 193/246 [01:55<00:33,  1.58it/s]"
     ]
    },
    {
     "name": "stdout",
     "output_type": "stream",
     "text": [
      "./data/raw_frames/violentflow/Hooligans_violence__Polish_Hooligans__tigardojaja__YLSsmo2Glyk\n",
      " \t\tFrame Count:10\n"
     ]
    },
    {
     "name": "stderr",
     "output_type": "stream",
     "text": [
      "\r",
      " 79%|███████▉  | 194/246 [01:56<00:31,  1.65it/s]"
     ]
    },
    {
     "name": "stdout",
     "output_type": "stream",
     "text": [
      "./data/raw_frames/violentflow/Hooligans_violence__Russian_Hooligans_Zenit_St_Petersburg__LordXavior__iMjISeT72vQ\n",
      " \t\tFrame Count:12\n"
     ]
    },
    {
     "name": "stderr",
     "output_type": "stream",
     "text": [
      "\r",
      " 79%|███████▉  | 195/246 [01:57<00:30,  1.67it/s]"
     ]
    },
    {
     "name": "stdout",
     "output_type": "stream",
     "text": [
      "./data/raw_frames/violentflow/Hooligans_violence__The_Best_Fans_in_the_World_Part_4_Hooligans__crvenobeli__3mXS25x\n",
      " \t\tFrame Count:12\n"
     ]
    },
    {
     "name": "stderr",
     "output_type": "stream",
     "text": [
      "\r",
      " 80%|███████▉  | 196/246 [01:57<00:33,  1.50it/s]"
     ]
    },
    {
     "name": "stdout",
     "output_type": "stream",
     "text": [
      "./data/raw_frames/violentflow/Hooligans_violence__Torcida_do_Flamengo_x_PM_na_Final_da_Copa_do_Brasil__craigrj__kK\n",
      " \t\tFrame Count:14\n"
     ]
    },
    {
     "name": "stderr",
     "output_type": "stream",
     "text": [
      "\r",
      " 80%|████████  | 197/246 [01:58<00:31,  1.55it/s]"
     ]
    },
    {
     "name": "stdout",
     "output_type": "stream",
     "text": [
      "./data/raw_frames/violentflow/peaceful_football_crowds__MaximsNewsNetwork_SUDAN_ELECTIONS_YASIR_ARMAN_OMAR_AL_BASHIR_UNM\n",
      " \t\tFrame Count:12\n"
     ]
    },
    {
     "name": "stderr",
     "output_type": "stream",
     "text": [
      "\r",
      " 80%|████████  | 198/246 [01:59<00:34,  1.40it/s]"
     ]
    },
    {
     "name": "stdout",
     "output_type": "stream",
     "text": [
      "./data/raw_frames/violentflow/soccer_violence__Chinese_kungfu_soccer__crazyzibe__Gsrc7AXC_kI\n",
      " \t\tFrame Count:11\n"
     ]
    },
    {
     "name": "stderr",
     "output_type": "stream",
     "text": [
      "\r",
      " 81%|████████  | 199/246 [01:59<00:30,  1.52it/s]"
     ]
    },
    {
     "name": "stdout",
     "output_type": "stream",
     "text": [
      "./data/raw_frames/violentflow/soccer_violence__FENERBAHCE_ULTRAS_VS_COPS_VIOLENCE_RIOT__2maxpower1453__e7Bv5fTB\n",
      " \t\tFrame Count:12\n"
     ]
    },
    {
     "name": "stderr",
     "output_type": "stream",
     "text": [
      "\r",
      " 81%|████████▏ | 200/246 [02:00<00:30,  1.52it/s]"
     ]
    },
    {
     "name": "stdout",
     "output_type": "stream",
     "text": [
      "./data/raw_frames/violentflow/soccer_violence__Football_Hooligans_Preston_North_End_Mix__prestonparasoccer__qwr\n",
      " \t\tFrame Count:11\n"
     ]
    },
    {
     "name": "stderr",
     "output_type": "stream",
     "text": [
      "\r",
      " 82%|████████▏ | 201/246 [02:01<00:29,  1.53it/s]"
     ]
    },
    {
     "name": "stdout",
     "output_type": "stream",
     "text": [
      "./data/raw_frames/violentflow/soccer_violence__Football_riots__madlu__OpgL3ZlF-gg\n",
      " \t\tFrame Count:12\n"
     ]
    },
    {
     "name": "stderr",
     "output_type": "stream",
     "text": [
      "\r",
      " 82%|████████▏ | 202/246 [02:01<00:28,  1.55it/s]"
     ]
    },
    {
     "name": "stdout",
     "output_type": "stream",
     "text": [
      "./data/raw_frames/violentflow/soccer_violence__FOOTBALL_WARS__negronera18__JRyQYbq9Zr4\n",
      " \t\tFrame Count:12\n"
     ]
    },
    {
     "name": "stderr",
     "output_type": "stream",
     "text": [
      "\r",
      " 83%|████████▎ | 203/246 [02:02<00:26,  1.62it/s]"
     ]
    },
    {
     "name": "stdout",
     "output_type": "stream",
     "text": [
      "./data/raw_frames/violentflow/soccer_violence__HOOLIGANS__mscs01__YWE3lKNm8aA\n",
      " \t\tFrame Count:13\n"
     ]
    },
    {
     "name": "stderr",
     "output_type": "stream",
     "text": [
      "\r",
      " 83%|████████▎ | 204/246 [02:03<00:27,  1.53it/s]"
     ]
    },
    {
     "name": "stdout",
     "output_type": "stream",
     "text": [
      "./data/raw_frames/violentflow/soccer_violence__hu_hu_hu_hooligans__misom0000__w_p6cBeTHkg\n",
      " \t\tFrame Count:15\n"
     ]
    },
    {
     "name": "stderr",
     "output_type": "stream",
     "text": [
      "\r",
      " 83%|████████▎ | 205/246 [02:03<00:26,  1.53it/s]"
     ]
    },
    {
     "name": "stdout",
     "output_type": "stream",
     "text": [
      "./data/raw_frames/violentflow/soccer_violence__MORTAL_SOCCER_Part_2__sha3booola__H6iKYprpB30\n",
      " \t\tFrame Count:10\n"
     ]
    },
    {
     "name": "stderr",
     "output_type": "stream",
     "text": [
      "\r",
      " 84%|████████▎ | 206/246 [02:04<00:24,  1.66it/s]"
     ]
    },
    {
     "name": "stdout",
     "output_type": "stream",
     "text": [
      "./data/raw_frames/violentflow/soccer_violence__SCC_gets_owned_by_real_football_fans__JayFCAK47__32N5pojPfV8\n",
      " \t\tFrame Count:12\n"
     ]
    },
    {
     "name": "stderr",
     "output_type": "stream",
     "text": [
      "\r",
      " 84%|████████▍ | 207/246 [02:04<00:23,  1.66it/s]"
     ]
    },
    {
     "name": "stdout",
     "output_type": "stream",
     "text": [
      "./data/raw_frames/violentflow/soccer_violence__Soccer_Hooligans_Clash_Unbelievable_Rumble__OrionEdWood__8DCP_E_J8A0\n",
      " \t\tFrame Count:10\n"
     ]
    },
    {
     "name": "stderr",
     "output_type": "stream",
     "text": [
      "\r",
      " 85%|████████▍ | 208/246 [02:05<00:21,  1.75it/s]"
     ]
    },
    {
     "name": "stdout",
     "output_type": "stream",
     "text": [
      "./data/raw_frames/violentflow/stadium_crowds__2008_Penn_State_Football_Crowd_Pump_Up_Video__rmcmillen50__rQB1R\n",
      " \t\tFrame Count:12\n"
     ]
    },
    {
     "name": "stderr",
     "output_type": "stream",
     "text": [
      "\r",
      " 85%|████████▍ | 209/246 [02:06<00:25,  1.46it/s]"
     ]
    },
    {
     "name": "stdout",
     "output_type": "stream",
     "text": [
      "./data/raw_frames/violentflow/stadium_crowds__2010_Probowl__SuperBowlWayne64__5aG92ySPbag\n",
      " \t\tFrame Count:11\n"
     ]
    },
    {
     "name": "stderr",
     "output_type": "stream",
     "text": [
      "\r",
      " 85%|████████▌ | 210/246 [02:07<00:26,  1.35it/s]"
     ]
    },
    {
     "name": "stdout",
     "output_type": "stream",
     "text": [
      "./data/raw_frames/violentflow/stadium_crowds__50000_people_in_a_stadium__simoncharlesspencerg__fLKom2IbDlg\n",
      " \t\tFrame Count:12\n"
     ]
    },
    {
     "name": "stderr",
     "output_type": "stream",
     "text": [
      "\r",
      " 86%|████████▌ | 211/246 [02:08<00:28,  1.23it/s]"
     ]
    },
    {
     "name": "stdout",
     "output_type": "stream",
     "text": [
      "./data/raw_frames/violentflow/stadium_crowds__Azan_el_Maghrib_to_calm_the_crowds_in_Cairo_stadium_Egypt_14_nov\n",
      " \t\tFrame Count:12\n"
     ]
    },
    {
     "name": "stderr",
     "output_type": "stream",
     "text": [
      "\r",
      " 86%|████████▌ | 212/246 [02:08<00:27,  1.25it/s]"
     ]
    },
    {
     "name": "stdout",
     "output_type": "stream",
     "text": [
      "./data/raw_frames/violentflow/stadium_crowds__Bands_talk_about_their_influences_from_Punk_s_Not_Dead__PNDmovie\n",
      " \t\tFrame Count:12\n"
     ]
    },
    {
     "name": "stderr",
     "output_type": "stream",
     "text": [
      "\r",
      " 87%|████████▋ | 213/246 [02:09<00:24,  1.37it/s]"
     ]
    },
    {
     "name": "stdout",
     "output_type": "stream",
     "text": [
      "./data/raw_frames/violentflow/stadium_crowds__Barnsley_FC_V_Swansea_City_FC_League_1_Play_off_Final_2006__stua\n",
      " \t\tFrame Count:12\n"
     ]
    },
    {
     "name": "stderr",
     "output_type": "stream",
     "text": [
      "\r",
      " 87%|████████▋ | 214/246 [02:10<00:22,  1.42it/s]"
     ]
    },
    {
     "name": "stdout",
     "output_type": "stream",
     "text": [
      "./data/raw_frames/violentflow/stadium_crowds__bohemka_viktorka_I__averlaagen__FDu-Q6Q5OVk\n",
      " \t\tFrame Count:11\n"
     ]
    },
    {
     "name": "stderr",
     "output_type": "stream",
     "text": [
      "\r",
      " 87%|████████▋ | 215/246 [02:10<00:21,  1.46it/s]"
     ]
    },
    {
     "name": "stdout",
     "output_type": "stream",
     "text": [
      "./data/raw_frames/violentflow/stadium_crowds__Bowman_Gray_New_Tourist_Destination__WXIItv__FIdbB90Dr2o\n",
      " \t\tFrame Count:11\n"
     ]
    },
    {
     "name": "stderr",
     "output_type": "stream",
     "text": [
      "\r",
      " 88%|████████▊ | 216/246 [02:11<00:23,  1.28it/s]"
     ]
    },
    {
     "name": "stdout",
     "output_type": "stream",
     "text": [
      "./data/raw_frames/violentflow/stadium_crowds__Brisbane_Lions_vs_Melbourne_Demons_The_Gabba__StudyinBrisbane__Y\n",
      " \t\tFrame Count:12\n"
     ]
    },
    {
     "name": "stderr",
     "output_type": "stream",
     "text": [
      "\r",
      " 88%|████████▊ | 217/246 [02:12<00:23,  1.24it/s]"
     ]
    },
    {
     "name": "stdout",
     "output_type": "stream",
     "text": [
      "./data/raw_frames/violentflow/stadium_crowds__BullDOgs_SoNG_aNd_VidEO_REMixed_NRL_CHAMPIONS_remix_of_BLue_WhiT\n",
      " \t\tFrame Count:12\n"
     ]
    },
    {
     "name": "stderr",
     "output_type": "stream",
     "text": [
      "\r",
      " 89%|████████▊ | 218/246 [02:13<00:22,  1.23it/s]"
     ]
    },
    {
     "name": "stdout",
     "output_type": "stream",
     "text": [
      "./data/raw_frames/violentflow/stadium_crowds__Crowd_Footage__ADTom43__PbQywcwkxDM\n",
      " \t\tFrame Count:13\n"
     ]
    },
    {
     "name": "stderr",
     "output_type": "stream",
     "text": [
      "\r",
      " 89%|████████▉ | 219/246 [02:14<00:26,  1.02it/s]"
     ]
    },
    {
     "name": "stdout",
     "output_type": "stream",
     "text": [
      "./data/raw_frames/violentflow/stadium_crowds__Did_Lady_GaGa_throw_a_tantrum__unknownsince1983__0Vkz-_rVYB8\n",
      " \t\tFrame Count:11\n"
     ]
    },
    {
     "name": "stderr",
     "output_type": "stream",
     "text": [
      "\r",
      " 89%|████████▉ | 220/246 [02:16<00:27,  1.05s/it]"
     ]
    },
    {
     "name": "stdout",
     "output_type": "stream",
     "text": [
      "./data/raw_frames/violentflow/stadium_crowds__Egypt_2_0_Algeria_World_Cup_2010__Azariful__joItnDgUGUc\n",
      " \t\tFrame Count:13\n"
     ]
    },
    {
     "name": "stderr",
     "output_type": "stream",
     "text": [
      "\r",
      " 90%|████████▉ | 221/246 [02:16<00:23,  1.07it/s]"
     ]
    },
    {
     "name": "stdout",
     "output_type": "stream",
     "text": [
      "./data/raw_frames/violentflow/stadium_crowds__FBR_Open_16th_Hole_Highlights__TheFBROpen__zJHVTcnGzcI\n",
      " \t\tFrame Count:13\n"
     ]
    },
    {
     "name": "stderr",
     "output_type": "stream",
     "text": [
      "\r",
      " 90%|█████████ | 222/246 [02:17<00:23,  1.01it/s]"
     ]
    },
    {
     "name": "stdout",
     "output_type": "stream",
     "text": [
      "./data/raw_frames/violentflow/stadium_crowds__Feel_the_buzz_of_Croke_Park__DiscoverGAA__bCYSflQwc7o\n",
      " \t\tFrame Count:11\n"
     ]
    },
    {
     "name": "stderr",
     "output_type": "stream",
     "text": [
      "\r",
      " 91%|█████████ | 223/246 [02:18<00:22,  1.04it/s]"
     ]
    },
    {
     "name": "stdout",
     "output_type": "stream",
     "text": [
      "./data/raw_frames/violentflow/stadium_crowds__FIFA_World_Cup_The_Warriors_and_Magicians__SuperUdink__I2kOH7p48\n",
      " \t\tFrame Count:18\n"
     ]
    },
    {
     "name": "stderr",
     "output_type": "stream",
     "text": [
      "\r",
      " 91%|█████████ | 224/246 [02:19<00:22,  1.02s/it]"
     ]
    },
    {
     "name": "stdout",
     "output_type": "stream",
     "text": [
      "./data/raw_frames/violentflow/stadium_crowds__Fulltime_at_Scottish_Cup_Final_Hampden_2010__tattoosyke__7JhKy66\n",
      " \t\tFrame Count:13\n"
     ]
    },
    {
     "name": "stderr",
     "output_type": "stream",
     "text": [
      "\r",
      " 91%|█████████▏| 225/246 [02:20<00:19,  1.06it/s]"
     ]
    },
    {
     "name": "stdout",
     "output_type": "stream",
     "text": [
      "./data/raw_frames/violentflow/stadium_crowds__HARRY_KEWELL_SCORES_CROWD_GO_NUTS__phillipstama__K7qlpU7tMhQ\n",
      " \t\tFrame Count:11\n"
     ]
    },
    {
     "name": "stderr",
     "output_type": "stream",
     "text": [
      "\r",
      " 92%|█████████▏| 226/246 [02:21<00:18,  1.08it/s]"
     ]
    },
    {
     "name": "stdout",
     "output_type": "stream",
     "text": [
      "./data/raw_frames/violentflow/stadium_crowds__Inside_the_Iowa_Spirit_Squads__uimediaproduction__V365Mro2t88\n",
      " \t\tFrame Count:14\n"
     ]
    },
    {
     "name": "stderr",
     "output_type": "stream",
     "text": [
      "\r",
      " 92%|█████████▏| 227/246 [02:22<00:17,  1.07it/s]"
     ]
    },
    {
     "name": "stdout",
     "output_type": "stream",
     "text": [
      "./data/raw_frames/violentflow/stadium_crowds__Iranian_Revolution_10th_Year_Anniversary__hijazna__PFZsW8I-GVY\n",
      " \t\tFrame Count:13\n"
     ]
    },
    {
     "name": "stderr",
     "output_type": "stream",
     "text": [
      "\r",
      " 93%|█████████▎| 228/246 [02:23<00:16,  1.07it/s]"
     ]
    },
    {
     "name": "stdout",
     "output_type": "stream",
     "text": [
      "./data/raw_frames/violentflow/stadium_crowds__Jump_Around_at_the_Camp_Randall_Outdoor_Hockey_Classic__ernste40\n",
      " \t\tFrame Count:15\n"
     ]
    },
    {
     "name": "stderr",
     "output_type": "stream",
     "text": [
      "\r",
      " 93%|█████████▎| 229/246 [02:24<00:16,  1.06it/s]"
     ]
    },
    {
     "name": "stdout",
     "output_type": "stream",
     "text": [
      "./data/raw_frames/violentflow/stadium_crowds__Life_in_a_Day_Cheering_in_a_crowd_of_44_000__TheMariaMcD__EnR2uY\n",
      " \t\tFrame Count:12\n"
     ]
    },
    {
     "name": "stderr",
     "output_type": "stream",
     "text": [
      "\r",
      " 93%|█████████▎| 230/246 [02:25<00:14,  1.07it/s]"
     ]
    },
    {
     "name": "stdout",
     "output_type": "stream",
     "text": [
      "./data/raw_frames/violentflow/stadium_crowds__Maracana_Football_Crowd_Atmosphere__thetravelmap__xfi3rvFKIPU\n",
      " \t\tFrame Count:11\n"
     ]
    },
    {
     "name": "stderr",
     "output_type": "stream",
     "text": [
      "\r",
      " 94%|█████████▍| 231/246 [02:25<00:12,  1.18it/s]"
     ]
    },
    {
     "name": "stdout",
     "output_type": "stream",
     "text": [
      "./data/raw_frames/violentflow/stadium_crowds__MASSIVE_mexican_Wave_at_state_of_origin_game_2_2010__MELfunkshun\n",
      " \t\tFrame Count:10\n"
     ]
    },
    {
     "name": "stderr",
     "output_type": "stream",
     "text": [
      "\r",
      " 94%|█████████▍| 232/246 [02:27<00:12,  1.11it/s]"
     ]
    },
    {
     "name": "stdout",
     "output_type": "stream",
     "text": [
      "./data/raw_frames/violentflow/stadium_crowds__Match_Day_at_the_Stadium__loVedruggedz__Fgjj8OjcnWU\n",
      " \t\tFrame Count:13\n"
     ]
    },
    {
     "name": "stderr",
     "output_type": "stream",
     "text": [
      "\r",
      " 95%|█████████▍| 233/246 [02:27<00:11,  1.12it/s]"
     ]
    },
    {
     "name": "stdout",
     "output_type": "stream",
     "text": [
      "./data/raw_frames/violentflow/stadium_crowds__MaximsNewsNetwork_ITALY_SPORT_SECURITY_UN__MaximsNewsNetwork__C-\n",
      " \t\tFrame Count:14\n"
     ]
    },
    {
     "name": "stderr",
     "output_type": "stream",
     "text": [
      "\r",
      " 95%|█████████▌| 234/246 [02:29<00:11,  1.04it/s]"
     ]
    },
    {
     "name": "stdout",
     "output_type": "stream",
     "text": [
      "./data/raw_frames/violentflow/stadium_crowds__Mexican_Wave_at_Cape_Town_Stadium__mallix2000__oyESuDC-dl0\n",
      " \t\tFrame Count:13\n"
     ]
    },
    {
     "name": "stderr",
     "output_type": "stream",
     "text": [
      "\r",
      " 96%|█████████▌| 235/246 [02:30<00:10,  1.02it/s]"
     ]
    },
    {
     "name": "stdout",
     "output_type": "stream",
     "text": [
      "./data/raw_frames/violentflow/stadium_crowds__Outside_Yankee_Stadium_Following_World_Series_Win_vs_Phillies_11\n",
      " \t\tFrame Count:11\n"
     ]
    },
    {
     "name": "stderr",
     "output_type": "stream",
     "text": [
      "\r",
      " 96%|█████████▌| 236/246 [02:30<00:08,  1.12it/s]"
     ]
    },
    {
     "name": "stdout",
     "output_type": "stream",
     "text": [
      "./data/raw_frames/violentflow/stadium_crowds__Police_drill_for_2010__CNN__0LP012X0yiA\n",
      " \t\tFrame Count:13\n"
     ]
    },
    {
     "name": "stderr",
     "output_type": "stream",
     "text": [
      "\r",
      " 96%|█████████▋| 237/246 [02:31<00:08,  1.11it/s]"
     ]
    },
    {
     "name": "stdout",
     "output_type": "stream",
     "text": [
      "./data/raw_frames/violentflow/stadium_crowds__Rutgers_tackles_traffic__tvjersey__j623HU58M8U\n",
      " \t\tFrame Count:12\n"
     ]
    },
    {
     "name": "stderr",
     "output_type": "stream",
     "text": [
      "\r",
      " 97%|█████████▋| 238/246 [02:32<00:06,  1.15it/s]"
     ]
    },
    {
     "name": "stdout",
     "output_type": "stream",
     "text": [
      "./data/raw_frames/violentflow/stadium_crowds__Stadium_Footage__ADTom43__AQdZ2OTF7VA\n",
      " \t\tFrame Count:11\n"
     ]
    },
    {
     "name": "stderr",
     "output_type": "stream",
     "text": [
      "\r",
      " 97%|█████████▋| 239/246 [02:33<00:06,  1.01it/s]"
     ]
    },
    {
     "name": "stdout",
     "output_type": "stream",
     "text": [
      "./data/raw_frames/violentflow/stadium_crowds__Tokyo_Yakult_Swallows_Home_Run_Celebration__wackycamper32__cX9ln\n",
      " \t\tFrame Count:13\n"
     ]
    },
    {
     "name": "stderr",
     "output_type": "stream",
     "text": [
      "\r",
      " 98%|█████████▊| 240/246 [02:34<00:05,  1.07it/s]"
     ]
    },
    {
     "name": "stdout",
     "output_type": "stream",
     "text": [
      "./data/raw_frames/violentflow/stadium_crowds__USC_Football_Team_arriving_at_Lincoln_stadium_2007__jmsotojr__um\n",
      " \t\tFrame Count:10\n"
     ]
    },
    {
     "name": "stderr",
     "output_type": "stream",
     "text": [
      "\r",
      " 98%|█████████▊| 241/246 [02:35<00:04,  1.14it/s]"
     ]
    },
    {
     "name": "stdout",
     "output_type": "stream",
     "text": [
      "./data/raw_frames/violentflow/stadium_crowds__Wales_Wonderful_Rugby_Win_1922__BFIfilms__Mb89swT_V3M\n",
      " \t\tFrame Count:11\n"
     ]
    },
    {
     "name": "stderr",
     "output_type": "stream",
     "text": [
      "\r",
      " 98%|█████████▊| 242/246 [02:36<00:03,  1.10it/s]"
     ]
    },
    {
     "name": "stdout",
     "output_type": "stream",
     "text": [
      "./data/raw_frames/violentflow/stadium_crowds__Yankee_Stadium_wave_5_2_08__NYlightning__g_CJ1A636kg\n",
      " \t\tFrame Count:11\n"
     ]
    },
    {
     "name": "stderr",
     "output_type": "stream",
     "text": [
      "\r",
      " 99%|█████████▉| 243/246 [02:37<00:02,  1.08it/s]"
     ]
    },
    {
     "name": "stdout",
     "output_type": "stream",
     "text": [
      "./data/raw_frames/violentflow/stadium_violence__Panathinaikos_Olympiakos_96_97_riots__GWF13__xW_LC_siwQo\n",
      " \t\tFrame Count:11\n"
     ]
    },
    {
     "name": "stderr",
     "output_type": "stream",
     "text": [
      "\r",
      " 99%|█████████▉| 244/246 [02:37<00:01,  1.14it/s]"
     ]
    },
    {
     "name": "stdout",
     "output_type": "stream",
     "text": [
      "./data/raw_frames/violentflow/stadium_violence__soccer_riot_compilation__qqcolaman__URwiZLZipeg\n",
      " \t\tFrame Count:15\n"
     ]
    },
    {
     "name": "stderr",
     "output_type": "stream",
     "text": [
      "\r",
      "100%|█████████▉| 245/246 [02:38<00:00,  1.22it/s]"
     ]
    },
    {
     "name": "stdout",
     "output_type": "stream",
     "text": [
      "./data/raw_frames/violentflow/stadium_violence__stadium_violence__Barras_Argentinas__alebb77__en5llVbjq20\n",
      " \t\tFrame Count:10\n"
     ]
    },
    {
     "name": "stderr",
     "output_type": "stream",
     "text": [
      "100%|██████████| 246/246 [02:39<00:00,  1.31it/s]\n"
     ]
    }
   ],
   "source": [
    "firstActionFlag = 0\n",
    "videoFeatures = []\n",
    "videoCount=1\n",
    "for sportsActionName in tqdm(sportsActionList):\n",
    "#     if(videoCount==10):\n",
    "#         break\n",
    "    sportsActionDir = sportsActionPath + \"/\" + sportsActionName\n",
    "    if('violence' in sportsActionName):\n",
    "        sportsActionName='fight'\n",
    "    else:\n",
    "        sportsActionName='no_fight'\n",
    "        \n",
    "    videoFeatures = featureExtraction(sportsActionDir , sportsActionName, 'Trng')\n",
    "#     print(len(videoFeatures))\n",
    "    # Put together all the videos\n",
    "    if firstActionFlag == 0:\n",
    "        sportsActionFeatures = videoFeatures\n",
    "        firstActionFlag = 1\n",
    "    else:\n",
    "        sportsActionFeatures = np.concatenate( (sportsActionFeatures, videoFeatures), axis=0)\n",
    "\n",
    "    videoCount += 1\n",
    "    "
   ]
  },
  {
   "cell_type": "code",
   "execution_count": 17,
   "metadata": {},
   "outputs": [],
   "source": [
    "sportsActionNumber = len(sportsActionTag)"
   ]
  },
  {
   "cell_type": "code",
   "execution_count": 18,
   "metadata": {},
   "outputs": [],
   "source": [
    "def evaluation( truth, predicted, categoryIndex ):\n",
    "\n",
    "    # TP,FP,FN,TN indicate True Positive, False Positive, False Negative, True Negative respectively\n",
    "    TP = 1\n",
    "    FP = 1\n",
    "    FN = 1\n",
    "    TN = 1\n",
    "\n",
    "    # Categories are Sports Action 1=>0, Sports Action 2=> 1, Sports Action 3=>2  etc..\n",
    "    for fIndex in range(len(truth)):\n",
    "\n",
    "         # Positive prediction for each feature\n",
    "        if ( int(predicted[fIndex]) == categoryIndex):\n",
    "            # TP=> when P[i] = T[i] = Ci\n",
    "            if (int(truth[fIndex]) == int (predicted[fIndex])):\n",
    "                TP += 1\n",
    "            else:\n",
    "                FP += 1\n",
    "        else: # Negative Prediction\n",
    "            if ( int ( truth[fIndex]) == categoryIndex ):\n",
    "                FN += 1\n",
    "            else:\n",
    "                TN += 1\n",
    "\n",
    "\n",
    "    # Calculate Sensitivity - True Positive Rate - Recall\n",
    "    sensitivity = TP / float ( TP + FN )\n",
    "\n",
    "    # Specificity - True Negative Rate\n",
    "    specificity = TN / float ( TN + FP )\n",
    "\n",
    "    #Calculate accuracy\n",
    "    accuracy =  ( TP + TN ) / float ( TP + FP + FN + TN )\n",
    "\n",
    "\n",
    "    return sensitivity, specificity, accuracy"
   ]
  },
  {
   "cell_type": "code",
   "execution_count": 19,
   "metadata": {},
   "outputs": [],
   "source": [
    "def getSportsActionName(saIndex):\n",
    "\n",
    "    keys   = sportsActionTag.keys()\n",
    "\n",
    "    for key in keys:\n",
    "        if saIndex == sportsActionTag[key]:\n",
    "            return key"
   ]
  },
  {
   "cell_type": "code",
   "execution_count": 20,
   "metadata": {},
   "outputs": [
    {
     "name": "stdout",
     "output_type": "stream",
     "text": [
      "(2234426, 129)\n"
     ]
    }
   ],
   "source": [
    "print(sportsActionFeatures.shape)"
   ]
  },
  {
   "cell_type": "code",
   "execution_count": 21,
   "metadata": {},
   "outputs": [],
   "source": [
    "featureAndLabelList=sportsActionFeatures\n",
    "np.random.shuffle(featureAndLabelList)"
   ]
  },
  {
   "cell_type": "code",
   "execution_count": 22,
   "metadata": {},
   "outputs": [],
   "source": [
    "subsetLength =  int(len(featureAndLabelList)*0.8)\n",
    "trainigSet = featureAndLabelList[:subsetLength]\n",
    "valdationSet = featureAndLabelList[subsetLength : ]"
   ]
  },
  {
   "cell_type": "code",
   "execution_count": 23,
   "metadata": {},
   "outputs": [],
   "source": [
    "# Get all features in a array\n",
    "label = []\n",
    "feature = []\n",
    "for featureAndLabel in trainigSet:\n",
    "    label.append(int(featureAndLabel[0]))\n",
    "    feature.append((np.delete(featureAndLabel, 0)).tolist())"
   ]
  },
  {
   "cell_type": "code",
   "execution_count": 24,
   "metadata": {},
   "outputs": [
    {
     "name": "stdout",
     "output_type": "stream",
     "text": [
      "INFO: Training ... \n"
     ]
    }
   ],
   "source": [
    "# Train model\n",
    "print(\"INFO: Training ... \")\n",
    "clf=RandomForestClassifier(n_estimators=13)\n",
    "clf=clf.fit(feature,label)\n",
    "\n",
    "# Prepare validation feature and label to be predicted\n",
    "# print(\"INFO: Prediction for \", getSportsActionName(rIndex))\n",
    "vFeatureList = []\n",
    "vLabelList   = [] # Ground Truth\n",
    "for featureAndLabel in valdationSet:\n",
    "    vFeatureList.append(featureAndLabel[1:].tolist())\n",
    "    vLabelList.append(featureAndLabel[0])"
   ]
  },
  {
   "cell_type": "code",
   "execution_count": 25,
   "metadata": {},
   "outputs": [
    {
     "name": "stdout",
     "output_type": "stream",
     "text": [
      "INFO: Evaluating ... \n"
     ]
    }
   ],
   "source": [
    "# Predict the class label for Validation Feature List\n",
    "predictedLabel = clf.predict(vFeatureList)\n",
    "\n",
    "# predict validation set and calculate accuracy\n",
    "print(\"INFO: Evaluating ... \")\n",
    "\n",
    "# Evaluation < Truth>, <Predicted>, <Sports Action Index>\n",
    "(sen, spec , accu ) = evaluation(vLabelList , predictedLabel.tolist() , 0)\n",
    "(sen1, spec1 , accu1 ) = evaluation(vLabelList , predictedLabel.tolist() , 1)"
   ]
  },
  {
   "cell_type": "code",
   "execution_count": 26,
   "metadata": {},
   "outputs": [
    {
     "name": "stdout",
     "output_type": "stream",
     "text": [
      "  *** Overall Evaluation ***\n",
      "    Average Sensitivity:  0.5754917958650128\n",
      "    Average Specificity:  0.5754917958650128\n",
      "    Average Accuracy   :  0.697708608382376\n"
     ]
    }
   ],
   "source": [
    "sensitivity = 0.0\n",
    "specificity = 0.0\n",
    "accuracy    = 0.0\n",
    "\n",
    "sensitivity += sen\n",
    "specificity += spec\n",
    "accuracy    += accu\n",
    "\n",
    "sensitivity += sen1\n",
    "specificity += spec1\n",
    "accuracy    += accu1\n",
    "# print(\"\\t   Sensitivity : \", sen)\n",
    "# print(\"\\t   Specificity : \", spec)\n",
    "# print(\"\\t   Accuracy    : \", accu)\n",
    "# Average evaluation metrics\n",
    "avgSensitivity = sensitivity / sportsActionNumber\n",
    "avgSpecificity = specificity / sportsActionNumber\n",
    "avgAccuracy = accuracy / sportsActionNumber\n",
    "\n",
    "\n",
    "print(\"  *** Overall Evaluation ***\")\n",
    "print(\"    Average Sensitivity: \", avgSensitivity)\n",
    "print(\"    Average Specificity: \", avgSpecificity)\n",
    "print(\"    Average Accuracy   : \", avgAccuracy)"
   ]
  },
  {
   "cell_type": "code",
   "execution_count": null,
   "metadata": {},
   "outputs": [
    {
     "name": "stdout",
     "output_type": "stream",
     "text": [
      "INFO: Training ... \n"
     ]
    }
   ],
   "source": [
    "from sklearn import svm\n",
    "print(\"INFO: Training ... \")\n",
    "clf = svm.SVC(gamma=0.01, C=13)\n",
    "clf.fit(feature,label)"
   ]
  },
  {
   "cell_type": "code",
   "execution_count": null,
   "metadata": {},
   "outputs": [],
   "source": [
    "# Predict the class label for Validation Feature List\n",
    "predictedLabel = clf.predict(vFeatureList)\n",
    "\n",
    "# predict validation set and calculate accuracy\n",
    "print(\"INFO: Evaluating ... \")\n",
    "\n",
    "# Evaluation < Truth>, <Predicted>, <Sports Action Index>\n",
    "(sen, spec , accu ) = evaluation(vLabelList , predictedLabel.tolist() , 0)\n",
    "(sen1, spec1 , accu1 ) = evaluation(vLabelList , predictedLabel.tolist() , 1)"
   ]
  },
  {
   "cell_type": "code",
   "execution_count": null,
   "metadata": {},
   "outputs": [],
   "source": [
    "# Evaluation Metrics\n",
    "sensitivity = 0.0\n",
    "specificity = 0.0\n",
    "accuracy    = 0.0\n",
    "\n",
    "sensitivity += sen\n",
    "specificity += spec\n",
    "accuracy    += accu\n",
    "\n",
    "sensitivity += sen1\n",
    "specificity += spec1\n",
    "accuracy    += accu1\n",
    "# print(\"\\t   Sensitivity : \", sen)\n",
    "# print(\"\\t   Specificity : \", spec)\n",
    "# print(\"\\t   Accuracy    : \", accu)\n",
    "# Average evaluation metrics\n",
    "avgSensitivity = sensitivity / sportsActionNumber\n",
    "avgSpecificity = specificity / sportsActionNumber\n",
    "avgAccuracy = accuracy / sportsActionNumber\n",
    "\n",
    "\n",
    "print(\"  *** Overall Evaluation ***\")\n",
    "print(\"    Average Sensitivity: \", avgSensitivity)\n",
    "print(\"    Average Specificity: \", avgSpecificity)\n",
    "print(\"    Average Accuracy   : \", avgAccuracy)"
   ]
  },
  {
   "cell_type": "code",
   "execution_count": null,
   "metadata": {},
   "outputs": [],
   "source": []
  }
 ],
 "metadata": {
  "kernelspec": {
   "display_name": "Python 3",
   "language": "python",
   "name": "python3"
  },
  "language_info": {
   "codemirror_mode": {
    "name": "ipython",
    "version": 3
   },
   "file_extension": ".py",
   "mimetype": "text/x-python",
   "name": "python",
   "nbconvert_exporter": "python",
   "pygments_lexer": "ipython3",
   "version": "3.7.3"
  }
 },
 "nbformat": 4,
 "nbformat_minor": 2
}
